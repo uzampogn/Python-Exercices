{
 "cells": [
  {
   "cell_type": "markdown",
   "metadata": {},
   "source": [
    "# Jupyter Shortcut\n",
    "- https://cheatography.com/weidadeyue/cheat-sheets/jupyter-notebook/\n",
    "- Display available methods, hit TAB\n",
    "- Display tooltip, hit SHIFT TAB\n",
    "- Press H to access shortcut list"
   ]
  },
  {
   "cell_type": "markdown",
   "metadata": {},
   "source": [
    "# Strings and Methods"
   ]
  },
  {
   "cell_type": "markdown",
   "metadata": {},
   "source": [
    "- include quotation in strings: use backslash"
   ]
  },
  {
   "cell_type": "code",
   "execution_count": 21,
   "metadata": {},
   "outputs": [
    {
     "name": "stdout",
     "output_type": "stream",
     "text": [
      "She said, \"What time is it?\"\n"
     ]
    }
   ],
   "source": [
    "text = \"She said, \\\"What time is it?\\\"\"\n",
    "print(text)"
   ]
  },
  {
   "cell_type": "markdown",
   "metadata": {},
   "source": [
    "- multiline string: triple quotation preserves whitespaces"
   ]
  },
  {
   "cell_type": "code",
   "execution_count": 2,
   "metadata": {},
   "outputs": [],
   "source": [
    "paragraph = \"\"\"This planet has—or rather had—a problem, which was\n",
    "this: most of the people living on it were unhappy for pretty much\n",
    "of the time. Many solutions were suggested for this problem, but\n",
    "most of these were largely concerned with the movements of small\n",
    "green pieces of paper, which is odd because on the whole it wasn't\n",
    "the small green pieces of paper that were unhappy.\"\"\"\n",
    "print(paragraph)"
   ]
  },
  {
   "cell_type": "markdown",
   "metadata": {},
   "source": [
    "- string concatanation: + operator"
   ]
  },
  {
   "cell_type": "code",
   "execution_count": 6,
   "metadata": {},
   "outputs": [
    {
     "name": "stdout",
     "output_type": "stream",
     "text": [
      "Ulysse Zampo\n"
     ]
    }
   ],
   "source": [
    "first_name = \"Ulysse\"\n",
    "second_name = \"Zampo\"\n",
    "full_name = first_name + \" \" + second_name\n",
    "print(full_name)"
   ]
  },
  {
   "cell_type": "markdown",
   "metadata": {},
   "source": [
    "- String indexing: string[n]"
   ]
  },
  {
   "cell_type": "code",
   "execution_count": 11,
   "metadata": {},
   "outputs": [
    {
     "name": "stdout",
     "output_type": "stream",
     "text": [
      "UO\n"
     ]
    }
   ],
   "source": [
    "Last_first_index = full_name[0] + full_name[-1]\n",
    "print(Last_first_index.upper())"
   ]
  },
  {
   "cell_type": "markdown",
   "metadata": {},
   "source": [
    "- String slicing"
   ]
  },
  {
   "cell_type": "code",
   "execution_count": 20,
   "metadata": {
    "scrolled": false
   },
   "outputs": [
    {
     "name": "stdout",
     "output_type": "stream",
     "text": [
      "Uly\n"
     ]
    }
   ],
   "source": [
    "print(full_name[:3])"
   ]
  },
  {
   "cell_type": "markdown",
   "metadata": {},
   "source": [
    "- Strings are immutable: If you want to alter a string, you need to create a new one."
   ]
  },
  {
   "cell_type": "markdown",
   "metadata": {},
   "source": [
    "### String methods:\n",
    "- .upper() and .lower()\n",
    "- .rstrip() > remove space from right side\n",
    "- .lstrip() > remove space from left side\n",
    "- .strip() > remove space from both side\n",
    "- .startswith('string') > Return Boolean (! is case sensitive)\n",
    "- .endswith('string') > Return Boolean (! is case sensitive)\n",
    "- .find() > find a substring in a string\n",
    "- .replace() > replace each instance of a substring with another string"
   ]
  },
  {
   "cell_type": "code",
   "execution_count": 31,
   "metadata": {
    "scrolled": true
   },
   "outputs": [
    {
     "data": {
      "text/plain": [
       "3"
      ]
     },
     "execution_count": 31,
     "metadata": {},
     "output_type": "execute_result"
    }
   ],
   "source": [
    "# .find() returns the index of the first appearance, starting from the beginning\n",
    "# .find() is case sensitive\n",
    "# .find() returns -1 if no match\n",
    "full_name.find('ss')"
   ]
  },
  {
   "cell_type": "code",
   "execution_count": 34,
   "metadata": {},
   "outputs": [
    {
     "name": "stdout",
     "output_type": "stream",
     "text": [
      "Roland Zampo\n"
     ]
    }
   ],
   "source": [
    "# .replace()\n",
    "print(full_name.replace('Ulysse','Roland'))"
   ]
  },
  {
   "cell_type": "markdown",
   "metadata": {},
   "source": [
    "### Interactive program: input()"
   ]
  },
  {
   "cell_type": "code",
   "execution_count": 28,
   "metadata": {},
   "outputs": [
    {
     "name": "stdout",
     "output_type": "stream",
     "text": [
      "Tell me your password:\n",
      "whiii\n",
      "Your password starts with: W\n"
     ]
    }
   ],
   "source": [
    "print(\"Tell me your password:\")\n",
    "response = input()\n",
    "response = response.upper()\n",
    "print('Your password starts with: ' + response[0])"
   ]
  },
  {
   "cell_type": "markdown",
   "metadata": {},
   "source": [
    "### F-strings"
   ]
  },
  {
   "cell_type": "code",
   "execution_count": 29,
   "metadata": {},
   "outputs": [
    {
     "data": {
      "text/plain": [
       "'Ulysse has 2 and 2'"
      ]
     },
     "execution_count": 29,
     "metadata": {},
     "output_type": "execute_result"
    }
   ],
   "source": [
    "arms = 2\n",
    "legs = 2\n",
    "f'{first_name} has {arms} and {legs}'"
   ]
  },
  {
   "cell_type": "markdown",
   "metadata": {},
   "source": [
    "# Numbers and Math"
   ]
  },
  {
   "cell_type": "code",
   "execution_count": 37,
   "metadata": {},
   "outputs": [
    {
     "data": {
      "text/plain": [
       "1000000"
      ]
     },
     "execution_count": 37,
     "metadata": {},
     "output_type": "execute_result"
    }
   ],
   "source": [
    "# For long number, you can separate it by underscore for readability\n",
    "1_000_000"
   ]
  },
  {
   "cell_type": "markdown",
   "metadata": {},
   "source": [
    "### Arithemic operators:\n",
    "- Floor division: //"
   ]
  },
  {
   "cell_type": "code",
   "execution_count": 41,
   "metadata": {},
   "outputs": [
    {
     "data": {
      "text/plain": [
       "3.0"
      ]
     },
     "execution_count": 41,
     "metadata": {},
     "output_type": "execute_result"
    }
   ],
   "source": [
    "#Floor division - automatically rounds down to an integer\n",
    "6.2 // 2"
   ]
  },
  {
   "cell_type": "code",
   "execution_count": 42,
   "metadata": {},
   "outputs": [
    {
     "data": {
      "text/plain": [
       "-2"
      ]
     },
     "execution_count": 42,
     "metadata": {},
     "output_type": "execute_result"
    }
   ],
   "source": [
    "-3 // 2 #! negative value"
   ]
  },
  {
   "cell_type": "markdown",
   "metadata": {},
   "source": [
    "- Power operator"
   ]
  },
  {
   "cell_type": "code",
   "execution_count": 43,
   "metadata": {},
   "outputs": [
    {
     "data": {
      "text/plain": [
       "4"
      ]
     },
     "execution_count": 43,
     "metadata": {},
     "output_type": "execute_result"
    }
   ],
   "source": [
    "2 ** 2"
   ]
  },
  {
   "cell_type": "markdown",
   "metadata": {},
   "source": [
    "- Modulus operator: returns the remainder of dividing the left by the right"
   ]
  },
  {
   "cell_type": "code",
   "execution_count": 50,
   "metadata": {},
   "outputs": [
    {
     "data": {
      "text/plain": [
       "6"
      ]
     },
     "execution_count": 50,
     "metadata": {},
     "output_type": "execute_result"
    }
   ],
   "source": [
    "20 % 7 \n",
    "#Explained: 7 divides 20, twice (7X2 = 14 - 20 = 6) + remainder"
   ]
  },
  {
   "cell_type": "code",
   "execution_count": 1,
   "metadata": {},
   "outputs": [
    {
     "data": {
      "text/plain": [
       "3"
      ]
     },
     "execution_count": 1,
     "metadata": {},
     "output_type": "execute_result"
    }
   ],
   "source": [
    "# Modulus with a divider greater than the base = the base\n",
    "3 % 5"
   ]
  },
  {
   "cell_type": "code",
   "execution_count": 2,
   "metadata": {},
   "outputs": [
    {
     "data": {
      "text/plain": [
       "0"
      ]
     },
     "execution_count": 2,
     "metadata": {},
     "output_type": "execute_result"
    }
   ],
   "source": [
    "# find even numbers, divider by 2 modulus = 0\n",
    "168 % 2"
   ]
  },
  {
   "cell_type": "code",
   "execution_count": 3,
   "metadata": {},
   "outputs": [
    {
     "data": {
      "text/plain": [
       "1"
      ]
     },
     "execution_count": 3,
     "metadata": {},
     "output_type": "execute_result"
    }
   ],
   "source": [
    "# find odd numbers, divider by 2 modulus = 1\n",
    "167 % 2"
   ]
  },
  {
   "cell_type": "markdown",
   "metadata": {},
   "source": [
    "- Challenge: "
   ]
  },
  {
   "cell_type": "code",
   "execution_count": 54,
   "metadata": {},
   "outputs": [
    {
     "name": "stdout",
     "output_type": "stream",
     "text": [
      "Enter a base:\n",
      "2\n",
      "Enter an exponent:\n",
      "8\n"
     ]
    },
    {
     "data": {
      "text/plain": [
       "'2.0 to the power of 8.0 = 256.0'"
      ]
     },
     "execution_count": 54,
     "metadata": {},
     "output_type": "execute_result"
    }
   ],
   "source": [
    "print('Enter a base:')\n",
    "base = float(input())\n",
    "print('Enter an exponent:')\n",
    "exponent = float(input())\n",
    "Product = base ** exponent\n",
    "f'{base} to the power of {exponent} = {Product}'"
   ]
  },
  {
   "cell_type": "markdown",
   "metadata": {},
   "source": [
    "### Math functions and Methods"
   ]
  },
  {
   "cell_type": "markdown",
   "metadata": {},
   "source": [
    "- .round(int/flot, int limits decimal) > round to the nearest integer\n",
    "- .abs()\n",
    "- .pow()\n",
    "- Print numbers and % in style - {n:.2f}"
   ]
  },
  {
   "cell_type": "code",
   "execution_count": 57,
   "metadata": {},
   "outputs": [
    {
     "data": {
      "text/plain": [
       "'Print n: 3.45'"
      ]
     },
     "execution_count": 57,
     "metadata": {},
     "output_type": "execute_result"
    }
   ],
   "source": [
    "n = 3.449384830\n",
    "f'Print n: {n:.2f}'"
   ]
  },
  {
   "cell_type": "code",
   "execution_count": 64,
   "metadata": {},
   "outputs": [
    {
     "data": {
      "text/plain": [
       "'Print ratio: 54%'"
      ]
     },
     "execution_count": 64,
     "metadata": {},
     "output_type": "execute_result"
    }
   ],
   "source": [
    "ratio = 0.54242\n",
    "f'Print ratio: {ratio:.0%}'"
   ]
  },
  {
   "cell_type": "markdown",
   "metadata": {},
   "source": [
    "# Functions and Loops"
   ]
  },
  {
   "cell_type": "markdown",
   "metadata": {},
   "source": [
    "## Functions"
   ]
  },
  {
   "cell_type": "code",
   "execution_count": 69,
   "metadata": {},
   "outputs": [],
   "source": [
    "def multipler(x,y):\n",
    "    product = x * y\n",
    "    return product\n",
    "    print('you cannot see me')"
   ]
  },
  {
   "cell_type": "code",
   "execution_count": 70,
   "metadata": {},
   "outputs": [
    {
     "data": {
      "text/plain": [
       "6"
      ]
     },
     "execution_count": 70,
     "metadata": {},
     "output_type": "execute_result"
    }
   ],
   "source": [
    "multipler(2,3)"
   ]
  },
  {
   "cell_type": "code",
   "execution_count": 71,
   "metadata": {},
   "outputs": [],
   "source": [
    "del multipler"
   ]
  },
  {
   "cell_type": "markdown",
   "metadata": {},
   "source": [
    "- Functions with NO return statement<br><br>\n",
    "All functions in Python return a value, even if that value is None. However, not all functions need a return statement."
   ]
  },
  {
   "cell_type": "code",
   "execution_count": 74,
   "metadata": {},
   "outputs": [
    {
     "name": "stdout",
     "output_type": "stream",
     "text": [
      "Hello, Ulysse Zampo!\n"
     ]
    }
   ],
   "source": [
    "def greet(name):\n",
    "    print(f\"Hello, {name}!\")\n",
    "\n",
    "greet(full_name)"
   ]
  },
  {
   "cell_type": "markdown",
   "metadata": {},
   "source": [
    "- Documenting functions"
   ]
  },
  {
   "cell_type": "code",
   "execution_count": 76,
   "metadata": {},
   "outputs": [
    {
     "name": "stdout",
     "output_type": "stream",
     "text": [
      "Help on built-in function abs in module builtins:\n",
      "\n",
      "abs(x, /)\n",
      "    Return the absolute value of the argument.\n",
      "\n"
     ]
    }
   ],
   "source": [
    "help(abs)"
   ]
  },
  {
   "cell_type": "code",
   "execution_count": 78,
   "metadata": {},
   "outputs": [],
   "source": [
    "def multipiler(x,y):\n",
    "    '''Return the product of two numbers '''\n",
    "    product = x * y\n",
    "    return product\n",
    "    print('you cannot see me')"
   ]
  },
  {
   "cell_type": "code",
   "execution_count": 79,
   "metadata": {},
   "outputs": [
    {
     "name": "stdout",
     "output_type": "stream",
     "text": [
      "Help on function multipiler in module __main__:\n",
      "\n",
      "multipiler(x, y)\n",
      "    Return the product of two numbers\n",
      "\n"
     ]
    }
   ],
   "source": [
    "help(multipiler)"
   ]
  },
  {
   "cell_type": "code",
   "execution_count": 487,
   "metadata": {},
   "outputs": [
    {
     "data": {
      "text/plain": [
       "('a', 'b')"
      ]
     },
     "execution_count": 487,
     "metadata": {},
     "output_type": "execute_result"
    }
   ],
   "source": [
    "#return multiple values from function\n",
    "def test11():\n",
    "    return list([\"a\",\"b\"])\n",
    "ex1 = tuple(test11())\n",
    "ex1"
   ]
  },
  {
   "cell_type": "markdown",
   "metadata": {},
   "source": [
    "- Challenge"
   ]
  },
  {
   "cell_type": "code",
   "execution_count": 88,
   "metadata": {},
   "outputs": [
    {
     "name": "stdout",
     "output_type": "stream",
     "text": [
      "Input a temp in Fahrenheit: \n",
      "120\n",
      "Conversion from Far to Cel: 48.89\n",
      "Input a temp in Celsius: \n",
      "20\n",
      "Conversion from Far to Cel: 68.00\n"
     ]
    }
   ],
   "source": [
    "def convert_cel_to_far(x):\n",
    "    '''Add description'''\n",
    "    conversion_far = float(x) * 9/5 + 32\n",
    "    return conversion_far\n",
    "\n",
    "def convert_far_to_cel(x):\n",
    "    conversion_cel = (float(x)-32) * 5/9\n",
    "    return conversion_cel\n",
    "\n",
    "print('Input a temp in Fahrenheit: ')\n",
    "far = input()\n",
    "far_to_cel = convert_far_to_cel(far)\n",
    "print(f'Conversion from Far to Cel: {far_to_cel:.2f}')\n",
    "\n",
    "print('Input a temp in Celsius: ')\n",
    "cel = input()\n",
    "cel_to_far = convert_cel_to_far(cel)\n",
    "print(f'Conversion from Far to Cel: {cel_to_far:.2f}')\n",
    "help(convert_cel_to_far)"
   ]
  },
  {
   "cell_type": "markdown",
   "metadata": {},
   "source": [
    "## Loops\n",
    "- While"
   ]
  },
  {
   "cell_type": "code",
   "execution_count": 89,
   "metadata": {
    "collapsed": true
   },
   "outputs": [
    {
     "name": "stdout",
     "output_type": "stream",
     "text": [
      "1\n",
      "2\n",
      "3\n",
      "4\n",
      "5\n",
      "6\n",
      "7\n",
      "8\n",
      "9\n",
      "10\n",
      "11\n",
      "12\n",
      "13\n",
      "14\n",
      "15\n",
      "16\n",
      "17\n",
      "18\n",
      "19\n",
      "20\n",
      "21\n",
      "22\n",
      "23\n",
      "24\n",
      "25\n",
      "26\n",
      "27\n",
      "28\n",
      "29\n",
      "30\n"
     ]
    }
   ],
   "source": [
    "n = 1\n",
    "while n < 31:\n",
    "    print(n)\n",
    "    n += 1"
   ]
  },
  {
   "cell_type": "markdown",
   "metadata": {},
   "source": [
    "- For"
   ]
  },
  {
   "cell_type": "code",
   "execution_count": 90,
   "metadata": {
    "collapsed": true
   },
   "outputs": [
    {
     "name": "stdout",
     "output_type": "stream",
     "text": [
      "4\n",
      "9\n",
      "16\n",
      "25\n",
      "36\n",
      "49\n"
     ]
    }
   ],
   "source": [
    "# range() > produces a range of numbers\n",
    "for n in range(2,8):\n",
    "    print(n*n)"
   ]
  },
  {
   "cell_type": "markdown",
   "metadata": {},
   "source": [
    "- Challenges"
   ]
  },
  {
   "cell_type": "code",
   "execution_count": 91,
   "metadata": {},
   "outputs": [
    {
     "name": "stdout",
     "output_type": "stream",
     "text": [
      "2\n",
      "3\n",
      "4\n",
      "5\n",
      "6\n",
      "7\n",
      "8\n",
      "9\n",
      "10\n"
     ]
    }
   ],
   "source": [
    "n = 2\n",
    "\n",
    "while n <= 10:\n",
    "    print(n)\n",
    "    n += 1"
   ]
  },
  {
   "cell_type": "code",
   "execution_count": 106,
   "metadata": {},
   "outputs": [],
   "source": [
    "def invest(amount, rate, years):\n",
    "    \"\"\"Return the compounded interest based on amount, rate, years\"\"\"\n",
    "    for y in range(years):\n",
    "        amount = float(amount) * ((float(rate)/100)+1)\n",
    "        y += 1\n",
    "        print(f'years {y}: ${amount:.2f}')"
   ]
  },
  {
   "cell_type": "code",
   "execution_count": 105,
   "metadata": {},
   "outputs": [
    {
     "name": "stdout",
     "output_type": "stream",
     "text": [
      "years 1: $10700.00\n",
      "years 2: $11449.00\n",
      "years 3: $12250.43\n",
      "years 4: $13107.96\n",
      "years 5: $14025.52\n",
      "years 6: $15007.30\n",
      "years 7: $16057.81\n",
      "years 8: $17181.86\n",
      "years 9: $18384.59\n",
      "years 10: $19671.51\n"
     ]
    }
   ],
   "source": [
    "invest(10000,7,10)"
   ]
  },
  {
   "cell_type": "code",
   "execution_count": 107,
   "metadata": {},
   "outputs": [
    {
     "name": "stdout",
     "output_type": "stream",
     "text": [
      "Help on function invest in module __main__:\n",
      "\n",
      "invest(amount, rate, years)\n",
      "    Return the compounded interest based on amount, rate, years\n",
      "\n"
     ]
    }
   ],
   "source": [
    "help(invest)"
   ]
  },
  {
   "cell_type": "markdown",
   "metadata": {},
   "source": [
    "### Break, Continue, Pass statements\n",
    "https://www.digitalocean.com/community/tutorials/how-to-use-break-continue-and-pass-statements-when-working-with-loops-in-python-3"
   ]
  },
  {
   "cell_type": "code",
   "execution_count": 4,
   "metadata": {},
   "outputs": [],
   "source": [
    "# Break : exit the loop\n",
    "number = 0\n",
    "\n",
    "for number in range(10):\n",
    "    if number == 5:\n",
    "        break    # break here\n",
    "\n",
    "    print('Number is ' + str(number))\n",
    "\n",
    "print('Out of loop')"
   ]
  },
  {
   "cell_type": "code",
   "execution_count": null,
   "metadata": {},
   "outputs": [],
   "source": [
    "# Continue : stop the loop and go to next elements\n",
    "number = 0\n",
    "\n",
    "for number in range(10):\n",
    "    if number == 5:\n",
    "        continue    # continue here\n",
    "\n",
    "    print('Number is ' + str(number))\n",
    "\n",
    "print('Out of loop')"
   ]
  },
  {
   "cell_type": "code",
   "execution_count": null,
   "metadata": {},
   "outputs": [],
   "source": [
    "# Pass : Pass the section and continue executing the remaining code of the loop, go to next elements\n",
    "number = 0\n",
    "\n",
    "for number in range(10):\n",
    "    if number == 5:\n",
    "        pass    # pass here\n",
    "\n",
    "    print('Number is ' + str(number))\n",
    "\n",
    "print('Out of loop')"
   ]
  },
  {
   "cell_type": "markdown",
   "metadata": {},
   "source": [
    "## Scope"
   ]
  },
  {
   "cell_type": "markdown",
   "metadata": {},
   "source": [
    "<b>LEGB rule:</b> Local, Enclosing, Global, Built-in\n",
    "\n",
    "1. <b>Local:</b> The local, or current, scope could be the body of a function\n",
    "or the top-level scope of a code file. It always represents the scope\n",
    "that the Python interpreter is currently working in.\n",
    "2. <b>Enclosing:</b> The enclosing scope is the scope one level up from\n",
    "the local scope. If the local scope is an inner function, then the\n",
    "enclosing scope is the scope of the outer function. If the scope is\n",
    "a top-level function, then the enclosing scope is the same as the\n",
    "global scope.\n",
    "3. <b>Global:</b> The global scope is the topmost scope in a program. It\n",
    "contains all the names defined in the code that are not contained\n",
    "in a function body.\n",
    "4. <b>Built-in:</b> The built-in scope contains all the names, such as keywords, that are built into Python. Functions such as round() and\n",
    "abs() are in the built-in scope. Anything that you can use without\n",
    "first defining it yourself is contained in the built-in scope."
   ]
  },
  {
   "cell_type": "markdown",
   "metadata": {},
   "source": [
    "# Conditional logic and Control flow"
   ]
  },
  {
   "cell_type": "markdown",
   "metadata": {},
   "source": [
    "### Conditional logic"
   ]
  },
  {
   "cell_type": "markdown",
   "metadata": {},
   "source": [
    "- Boolean comparator\n",
    "    - ' > '\n",
    "    - ' < '\n",
    "    - ' >= '\n",
    "    - ' <= '\n",
    "    - ' != '\n",
    "    - ' == '\n",
    "    - ' __ ' equals to"
   ]
  },
  {
   "cell_type": "code",
   "execution_count": 108,
   "metadata": {
    "collapsed": true
   },
   "outputs": [
    {
     "data": {
      "text/plain": [
       "True"
      ]
     },
     "execution_count": 108,
     "metadata": {},
     "output_type": "execute_result"
    }
   ],
   "source": [
    "\"good\" != \"Good\""
   ]
  },
  {
   "cell_type": "code",
   "execution_count": 109,
   "metadata": {
    "collapsed": true
   },
   "outputs": [
    {
     "data": {
      "text/plain": [
       "False"
      ]
     },
     "execution_count": 109,
     "metadata": {},
     "output_type": "execute_result"
    }
   ],
   "source": [
    "123 == \"123\""
   ]
  },
  {
   "cell_type": "markdown",
   "metadata": {},
   "source": [
    "Combination Using <b>and</b> <br>\n",
    "True and True  = True<br>\n",
    "True and False = False<br>\n",
    "False and True = False<br>\n",
    "False and False = False<br><br>\n",
    "\n",
    "\n",
    "Combination Using <b>or</b> <br>\n",
    "True or True = True<br>\n",
    "True or False = True<br>\n",
    "False or True = True<br>\n",
    "False or False = False<br><br>\n",
    "\n",
    "Operator Order of Precedence (Highest to Lowest)<br>\n",
    "<, <=, ==, >=, ><br>\n",
    "not<br>\n",
    "and<br>\n",
    "or\n"
   ]
  },
  {
   "cell_type": "markdown",
   "metadata": {},
   "source": [
    "### Control flow"
   ]
  },
  {
   "cell_type": "markdown",
   "metadata": {},
   "source": [
    "- <b>if</b>  <b>elif</b>  <b>else</b>  statement"
   ]
  },
  {
   "cell_type": "code",
   "execution_count": 119,
   "metadata": {
    "collapsed": true
   },
   "outputs": [
    {
     "ename": "NameError",
     "evalue": "name 'sport' is not defined",
     "output_type": "error",
     "traceback": [
      "\u001b[1;31m---------------------------------------------------------------------------\u001b[0m",
      "\u001b[1;31mNameError\u001b[0m                                 Traceback (most recent call last)",
      "\u001b[1;32m<ipython-input-119-ad4862bdf4bc>\u001b[0m in \u001b[0;36m<module>\u001b[1;34m\u001b[0m\n\u001b[0;32m      1\u001b[0m \u001b[1;31m#Example of complex if\u001b[0m\u001b[1;33m\u001b[0m\u001b[1;33m\u001b[0m\u001b[1;33m\u001b[0m\u001b[0m\n\u001b[1;32m----> 2\u001b[1;33m \u001b[0msport\u001b[0m \u001b[1;33m=\u001b[0m \u001b[0msport\u001b[0m\u001b[1;33m.\u001b[0m\u001b[0mlower\u001b[0m\u001b[1;33m(\u001b[0m\u001b[1;33m)\u001b[0m\u001b[1;33m\u001b[0m\u001b[1;33m\u001b[0m\u001b[0m\n\u001b[0m\u001b[0;32m      3\u001b[0m \u001b[1;33m\u001b[0m\u001b[0m\n\u001b[0;32m      4\u001b[0m \u001b[1;32mif\u001b[0m \u001b[0mp1_score\u001b[0m \u001b[1;33m==\u001b[0m \u001b[0mp2_score\u001b[0m\u001b[1;33m:\u001b[0m\u001b[1;33m\u001b[0m\u001b[1;33m\u001b[0m\u001b[0m\n\u001b[0;32m      5\u001b[0m     \u001b[0mprint\u001b[0m\u001b[1;33m(\u001b[0m\u001b[1;34m\"The game is a draw.\"\u001b[0m\u001b[1;33m)\u001b[0m\u001b[1;33m\u001b[0m\u001b[1;33m\u001b[0m\u001b[0m\n",
      "\u001b[1;31mNameError\u001b[0m: name 'sport' is not defined"
     ]
    }
   ],
   "source": [
    "#Example of complex if\n",
    "sport = sport.lower()\n",
    "\n",
    "if p1_score == p2_score:\n",
    "    print(\"The game is a draw.\")\n",
    "elif (sport == \"basketball\") or (sport == \"golf\"):\n",
    "    p1_wins_bball = (sport == \"basketball\") and (p1_score > p2_score)\n",
    "    p1_wins_golf = (sport == \"golf\") and (p1_score < p2_score)\n",
    "    p1_wins = p1_wins_bball or p1_wins_golf\n",
    "    if p1_wins:\n",
    "        print(\"Player 1 wins.\")\n",
    "    else:\n",
    "        print(\"Player 2 wins.\")\n",
    "else:\n",
    "    print(\"Unknown sport\")"
   ]
  },
  {
   "cell_type": "code",
   "execution_count": 116,
   "metadata": {},
   "outputs": [
    {
     "name": "stdout",
     "output_type": "stream",
     "text": [
      "Enter a positive integer:\n",
      "12\n",
      "1 is a factor of 12\n",
      "2 is a factor of 12\n",
      "3 is a factor of 12\n",
      "4 is a factor of 12\n",
      "6 is a factor of 12\n",
      "12 is a factor of 12\n"
     ]
    }
   ],
   "source": [
    "print('Enter a positive integer:')\n",
    "n = int(input())\n",
    "\n",
    "for x in range(1,n+1):\n",
    "    if (12 % x) == 0:\n",
    "        print(f'{x} is a factor of {n}')\n",
    "        x += 1"
   ]
  },
  {
   "cell_type": "markdown",
   "metadata": {},
   "source": [
    "- <b> Break </b> keyword\n",
    "    - break out of a loop"
   ]
  },
  {
   "cell_type": "markdown",
   "metadata": {},
   "source": [
    "- <b> Continue </b> keyword\n",
    "    - skip and execute remaining code"
   ]
  },
  {
   "cell_type": "markdown",
   "metadata": {},
   "source": [
    "# Tuples, list and dictionaries "
   ]
  },
  {
   "cell_type": "markdown",
   "metadata": {},
   "source": [
    "A data structure models a collection of data, such as a list of numbers, a row in a spreadsheet, or a record in a database."
   ]
  },
  {
   "cell_type": "markdown",
   "metadata": {},
   "source": [
    "### Tuples"
   ]
  },
  {
   "cell_type": "markdown",
   "metadata": {},
   "source": [
    "1. Tuples are ordered\n",
    "2. Tuples are immutable\n",
    "3. Tuples are iterable (can use for loop)\n",
    "4. Tuples may contain any type of value, incl. different types"
   ]
  },
  {
   "cell_type": "code",
   "execution_count": 130,
   "metadata": {},
   "outputs": [
    {
     "data": {
      "text/plain": [
       "('Ulysse', 'Z', 'ampo')"
      ]
     },
     "execution_count": 130,
     "metadata": {},
     "output_type": "execute_result"
    }
   ],
   "source": [
    "# Tuple literals\n",
    "ex_tuple = (1,2,3)\n",
    "ex2_tuple = (\"a\",5,6.9)\n",
    "ex3_tuple = ('Ulysse', 'Z', 'ampo')\n",
    "one_element_tuple = ('Yo',)\n",
    "ex3_tuple"
   ]
  },
  {
   "cell_type": "code",
   "execution_count": 126,
   "metadata": {},
   "outputs": [
    {
     "data": {
      "text/plain": [
       "(1, 2, 3)"
      ]
     },
     "execution_count": 126,
     "metadata": {},
     "output_type": "execute_result"
    }
   ],
   "source": [
    "ex_tuple"
   ]
  },
  {
   "cell_type": "code",
   "execution_count": 123,
   "metadata": {},
   "outputs": [
    {
     "data": {
      "text/plain": [
       "('U', 'l', 'y', 's', 's', 'e')"
      ]
     },
     "execution_count": 123,
     "metadata": {},
     "output_type": "execute_result"
    }
   ],
   "source": [
    "# Built-in Tuple\n",
    "# Built-in Tuple only accept single parameters\n",
    "tuple('Ulysse')"
   ]
  },
  {
   "cell_type": "code",
   "execution_count": 134,
   "metadata": {
    "collapsed": true
   },
   "outputs": [
    {
     "ename": "TypeError",
     "evalue": "tuple expected at most 1 argument, got 3",
     "output_type": "error",
     "traceback": [
      "\u001b[1;31m---------------------------------------------------------------------------\u001b[0m",
      "\u001b[1;31mTypeError\u001b[0m                                 Traceback (most recent call last)",
      "\u001b[1;32m<ipython-input-134-21826688ed22>\u001b[0m in \u001b[0;36m<module>\u001b[1;34m\u001b[0m\n\u001b[0;32m      2\u001b[0m \u001b[1;31m# the value must contain multiple values that can be accessed one by one\u001b[0m\u001b[1;33m\u001b[0m\u001b[1;33m\u001b[0m\u001b[1;33m\u001b[0m\u001b[0m\n\u001b[0;32m      3\u001b[0m \u001b[1;31m# integer is not iterable\u001b[0m\u001b[1;33m\u001b[0m\u001b[1;33m\u001b[0m\u001b[1;33m\u001b[0m\u001b[0m\n\u001b[1;32m----> 4\u001b[1;33m \u001b[0mtuple\u001b[0m\u001b[1;33m(\u001b[0m\u001b[1;36m139849\u001b[0m\u001b[1;33m,\u001b[0m\u001b[1;36m244\u001b[0m\u001b[1;33m,\u001b[0m\u001b[1;36m2424\u001b[0m\u001b[1;33m)\u001b[0m\u001b[1;33m\u001b[0m\u001b[1;33m\u001b[0m\u001b[0m\n\u001b[0m",
      "\u001b[1;31mTypeError\u001b[0m: tuple expected at most 1 argument, got 3"
     ]
    }
   ],
   "source": [
    "# Built-in Tuples are iterable, \n",
    "# the value must contain multiple values that can be accessed one by one\n",
    "# integer is not iterable\n",
    "tuple(139849)"
   ]
  },
  {
   "cell_type": "code",
   "execution_count": 138,
   "metadata": {},
   "outputs": [
    {
     "data": {
      "text/plain": [
       "(5, 6.9)"
      ]
     },
     "execution_count": 138,
     "metadata": {},
     "output_type": "execute_result"
    }
   ],
   "source": [
    "# Indexing and slicing works with tuples\n",
    "ex2_tuple[1:]"
   ]
  },
  {
   "cell_type": "code",
   "execution_count": 135,
   "metadata": {},
   "outputs": [
    {
     "data": {
      "text/plain": [
       "True"
      ]
     },
     "execution_count": 135,
     "metadata": {},
     "output_type": "execute_result"
    }
   ],
   "source": [
    "# In Operator with Tuple\n",
    "1 in ex_tuple"
   ]
  },
  {
   "cell_type": "code",
   "execution_count": 136,
   "metadata": {},
   "outputs": [
    {
     "data": {
      "text/plain": [
       "(109, -81)"
      ]
     },
     "execution_count": 136,
     "metadata": {},
     "output_type": "execute_result"
    }
   ],
   "source": [
    "# Returning multiple values from a function\n",
    "def adder_subtractor(n1,n2):\n",
    "    return(n1+n2,n1-n2)\n",
    "adder_subtractor(14,95)"
   ]
  },
  {
   "cell_type": "code",
   "execution_count": 141,
   "metadata": {},
   "outputs": [
    {
     "data": {
      "text/plain": [
       "tuple"
      ]
     },
     "execution_count": 141,
     "metadata": {},
     "output_type": "execute_result"
    }
   ],
   "source": [
    "# Packing and Unpacking Tuples\n",
    "a = 33.4,44.44,99.55 #Packing\n",
    "type(a)"
   ]
  },
  {
   "cell_type": "code",
   "execution_count": 143,
   "metadata": {},
   "outputs": [
    {
     "data": {
      "text/plain": [
       "float"
      ]
     },
     "execution_count": 143,
     "metadata": {},
     "output_type": "execute_result"
    }
   ],
   "source": [
    "b,c,d = a #Unpacking\n",
    "type(b)"
   ]
  },
  {
   "cell_type": "markdown",
   "metadata": {},
   "source": [
    "### Lists\n",
    "\n",
    "   1. List are ordered\n",
    "   2. Lists are <b>mutable</b>\n",
    "   3. Lists are iterable (can use for loop)\n",
    "\n",
    "NB: String, Tuple and list are SEQUENCE type data. Meaning it contains items that are indexed by integers."
   ]
  },
  {
   "cell_type": "markdown",
   "metadata": {},
   "source": [
    "#### Methods\n",
    "\n",
    ".split() > convert a string in a list based on a delimiter <br>\n",
    ".insert() > insert a single new value in a list NB: inplace alteration<br>\n",
    ".pop() > removes a single value<br>\n",
    ".append() > add one element at the end of a list<br>\n",
    ".extend() > add multiple elements at the end of a list"
   ]
  },
  {
   "cell_type": "code",
   "execution_count": 144,
   "metadata": {},
   "outputs": [],
   "source": [
    "#List literal\n",
    "\n",
    "list_ex = ['yo','man']"
   ]
  },
  {
   "cell_type": "code",
   "execution_count": 146,
   "metadata": {},
   "outputs": [],
   "source": [
    "#Built-in List\n",
    "\n",
    "list_ex1 = list(('yo','man'))"
   ]
  },
  {
   "cell_type": "code",
   "execution_count": 147,
   "metadata": {},
   "outputs": [
    {
     "data": {
      "text/plain": [
       "list"
      ]
     },
     "execution_count": 147,
     "metadata": {},
     "output_type": "execute_result"
    }
   ],
   "source": [
    " # .split() method > convert a string into a list\n",
    "groceries = 'eggs, milk, coffee'\n",
    "list_ex2 = groceries.split(',')\n",
    "type(list_ex2)"
   ]
  },
  {
   "cell_type": "code",
   "execution_count": 148,
   "metadata": {},
   "outputs": [
    {
     "data": {
      "text/plain": [
       "['man', 'man']"
      ]
     },
     "execution_count": 148,
     "metadata": {},
     "output_type": "execute_result"
    }
   ],
   "source": [
    "# Lists are mutable\n",
    "list_ex[0] = 'man'\n",
    "list_ex"
   ]
  },
  {
   "cell_type": "code",
   "execution_count": 150,
   "metadata": {},
   "outputs": [
    {
     "data": {
      "text/plain": [
       "'yo'"
      ]
     },
     "execution_count": 150,
     "metadata": {},
     "output_type": "execute_result"
    }
   ],
   "source": [
    "# .insert()\n",
    "list_ex.insert(3,'yo')\n",
    "# .pop()\n",
    "list_ex.pop() #no parameters, remove the last value"
   ]
  },
  {
   "cell_type": "code",
   "execution_count": 166,
   "metadata": {},
   "outputs": [
    {
     "data": {
      "text/plain": [
       "['man', 'man', 'yo']"
      ]
     },
     "execution_count": 166,
     "metadata": {},
     "output_type": "execute_result"
    }
   ],
   "source": [
    "list_ex = list_ex[:3]\n",
    "list_ex"
   ]
  },
  {
   "cell_type": "code",
   "execution_count": 163,
   "metadata": {},
   "outputs": [
    {
     "data": {
      "text/plain": [
       "['man', 'man', 'yo', ['eggs', ' milk', ' coffee']]"
      ]
     },
     "execution_count": 163,
     "metadata": {},
     "output_type": "execute_result"
    }
   ],
   "source": [
    "# .append() add one element\n",
    "list_ex.append(groceries.split(','))\n",
    "list_ex"
   ]
  },
  {
   "cell_type": "code",
   "execution_count": 167,
   "metadata": {},
   "outputs": [
    {
     "data": {
      "text/plain": [
       "['man', 'man', 'yo', 'eggs', ' milk', ' coffee']"
      ]
     },
     "execution_count": 167,
     "metadata": {},
     "output_type": "execute_result"
    }
   ],
   "source": [
    "# .extend() add multiple elements\n",
    "list_ex.extend(groceries.split(','))\n",
    "list_ex"
   ]
  },
  {
   "cell_type": "markdown",
   "metadata": {},
   "source": [
    "#### List of numbers"
   ]
  },
  {
   "cell_type": "code",
   "execution_count": 171,
   "metadata": {},
   "outputs": [
    {
     "data": {
      "text/plain": [
       "5"
      ]
     },
     "execution_count": 171,
     "metadata": {},
     "output_type": "execute_result"
    }
   ],
   "source": [
    "num_list = [1,2,3,4,5]\n",
    "sum(num_list)\n",
    "min(num_list)\n",
    "max(num_list)"
   ]
  },
  {
   "cell_type": "code",
   "execution_count": 172,
   "metadata": {},
   "outputs": [
    {
     "data": {
      "text/plain": [
       "8"
      ]
     },
     "execution_count": 172,
     "metadata": {},
     "output_type": "execute_result"
    }
   ],
   "source": [
    "num_tuple = (4,5,6,8)\n",
    "sum(num_tuple)\n",
    "min(num_tuple)\n",
    "max(num_tuple)"
   ]
  },
  {
   "cell_type": "markdown",
   "metadata": {},
   "source": [
    "#### List Comprehensions\n",
    "\n",
    "Shorthand for loop from iterable"
   ]
  },
  {
   "cell_type": "code",
   "execution_count": 173,
   "metadata": {},
   "outputs": [
    {
     "data": {
      "text/plain": [
       "[16, 25, 36, 64]"
      ]
     },
     "execution_count": 173,
     "metadata": {},
     "output_type": "execute_result"
    }
   ],
   "source": [
    "square = [n**2 for n in num_tuple]\n",
    "square"
   ]
  },
  {
   "cell_type": "code",
   "execution_count": 175,
   "metadata": {},
   "outputs": [
    {
     "data": {
      "text/plain": [
       "float"
      ]
     },
     "execution_count": 175,
     "metadata": {},
     "output_type": "execute_result"
    }
   ],
   "source": [
    "str_num = ['1.4','3.5','6.6']\n",
    "converted_num = [float(n) for n in str_num]\n",
    "type(converted_num[0])"
   ]
  },
  {
   "cell_type": "markdown",
   "metadata": {},
   "source": [
    "#### Nesting, Copying and Sorting Tuples and Lists"
   ]
  },
  {
   "cell_type": "code",
   "execution_count": 178,
   "metadata": {},
   "outputs": [
    {
     "data": {
      "text/plain": [
       "['1.4', '3.5', '6.6']"
      ]
     },
     "execution_count": 178,
     "metadata": {},
     "output_type": "execute_result"
    }
   ],
   "source": [
    "# Copying: Shallow vs Deepcopy\n",
    "# To copy a list use slice notication [:]\n",
    "str_num2 = str_num[:]\n",
    "str_num2"
   ]
  },
  {
   "cell_type": "code",
   "execution_count": 180,
   "metadata": {},
   "outputs": [
    {
     "data": {
      "text/plain": [
       "['1.4', '3.5', '6.6', ['1.4', '3.5', '6.6']]"
      ]
     },
     "execution_count": 180,
     "metadata": {},
     "output_type": "execute_result"
    }
   ],
   "source": [
    "# To deepcopy a list of lists import copy\n",
    "import copy\n",
    "str_num3 = ['1.4','3.5','6.6',['1.4','3.5','6.6']]\n",
    "str_num3_copy = copy.deepcopy(str_num3)\n",
    "str_num3_copy"
   ]
  },
  {
   "cell_type": "markdown",
   "metadata": {},
   "source": [
    "Notes: A variable name is really just a reference to a specific location in computer memory. Instead of copying all the contents of the list object\n",
    "and creating a new list, large_cats = animals assigns the memory location referenced by animals to large_cats. That is, both variables now\n",
    "refer to the same object in memory, and any changes made to one will\n",
    "affect the other."
   ]
  },
  {
   "cell_type": "code",
   "execution_count": 182,
   "metadata": {},
   "outputs": [
    {
     "data": {
      "text/plain": [
       "[(-9, 0), (4, 1), (1, 2)]"
      ]
     },
     "execution_count": 182,
     "metadata": {},
     "output_type": "execute_result"
    }
   ],
   "source": [
    "# Sorting using .sort()\n",
    "# .sort(key) > key accept function returning one single argument\n",
    "# INPLACE\n",
    "def get_second_element(item):\n",
    "    return item[1]\n",
    "\n",
    "items = [(4, 1), (1, 2), (-9, 0)]\n",
    "items.sort(key=get_second_element)\n",
    "items"
   ]
  },
  {
   "cell_type": "markdown",
   "metadata": {},
   "source": [
    "#### Challenge"
   ]
  },
  {
   "cell_type": "code",
   "execution_count": 183,
   "metadata": {},
   "outputs": [],
   "source": [
    "data = ((1,2),(3,4))"
   ]
  },
  {
   "cell_type": "code",
   "execution_count": 192,
   "metadata": {},
   "outputs": [
    {
     "data": {
      "text/plain": [
       "7"
      ]
     },
     "execution_count": 192,
     "metadata": {},
     "output_type": "execute_result"
    }
   ],
   "source": [
    "sum(data[1])"
   ]
  },
  {
   "cell_type": "code",
   "execution_count": 195,
   "metadata": {},
   "outputs": [
    {
     "name": "stdout",
     "output_type": "stream",
     "text": [
      "Row 1 sum: 3\n",
      "Row 2 sum: 7\n"
     ]
    }
   ],
   "source": [
    "row = 0\n",
    "for i in data:\n",
    "    row += 1\n",
    "    print(f'Row {row} sum: {sum(i)}')"
   ]
  },
  {
   "cell_type": "markdown",
   "metadata": {},
   "source": [
    "#### Challenge"
   ]
  },
  {
   "cell_type": "code",
   "execution_count": 196,
   "metadata": {},
   "outputs": [],
   "source": [
    "universities = [\n",
    "['California Institute of Technology', 2175, 37704],\n",
    "['Harvard', 19627, 39849],\n",
    "['Massachusetts Institute of Technology', 10566, 40732],\n",
    "['Princeton', 7802, 37000],\n",
    "['Rice', 5879, 35551],\n",
    "['Stanford', 19535, 40569],\n",
    "['Yale', 11701, 40500]\n",
    "]"
   ]
  },
  {
   "cell_type": "code",
   "execution_count": 249,
   "metadata": {},
   "outputs": [],
   "source": [
    "def enrollment_stat(uni_date):\n",
    "    students = []\n",
    "    for i in uni_date:\n",
    "        students.append(i[1])\n",
    "    \n",
    "    tuition = []\n",
    "    for i in uni_date:\n",
    "        tuition.append(i[2])\n",
    "    \n",
    "    return students, tuition"
   ]
  },
  {
   "cell_type": "code",
   "execution_count": 250,
   "metadata": {},
   "outputs": [],
   "source": [
    "enrollment_values, tuition = enrollment_stat(universities)"
   ]
  },
  {
   "cell_type": "code",
   "execution_count": 296,
   "metadata": {
    "scrolled": false
   },
   "outputs": [
    {
     "data": {
      "text/plain": [
       "[2175, 5879, 7802, 10566, 11701, 19535, 19627]"
      ]
     },
     "execution_count": 296,
     "metadata": {},
     "output_type": "execute_result"
    }
   ],
   "source": [
    "enrollment_values"
   ]
  },
  {
   "cell_type": "code",
   "execution_count": 289,
   "metadata": {},
   "outputs": [
    {
     "data": {
      "text/plain": [
       "[35551, 37000, 37704, 39849, 40500, 40569, 40732]"
      ]
     },
     "execution_count": 289,
     "metadata": {},
     "output_type": "execute_result"
    }
   ],
   "source": [
    "tuition"
   ]
  },
  {
   "cell_type": "code",
   "execution_count": 307,
   "metadata": {},
   "outputs": [],
   "source": [
    "def mean(list_arg):\n",
    "    return sum(list_arg)/len(list_arg)"
   ]
  },
  {
   "cell_type": "code",
   "execution_count": 290,
   "metadata": {},
   "outputs": [
    {
     "data": {
      "text/plain": [
       "11040.714285714286"
      ]
     },
     "execution_count": 290,
     "metadata": {},
     "output_type": "execute_result"
    }
   ],
   "source": [
    "mean(enrollment_values)"
   ]
  },
  {
   "cell_type": "code",
   "execution_count": 308,
   "metadata": {},
   "outputs": [],
   "source": [
    "def median(list_arg):\n",
    "    \"\"\"Return the median value of the list 'list_arg'\"\"\"\n",
    "    list_arg.sort()\n",
    "    #If the number of value is odd, return centered value\n",
    "    if len(list_arg)%2 == 1:\n",
    "        index = int(len(list_arg)/2) #int() round down\n",
    "        return list_arg[index]\n",
    "    else:\n",
    "        #If number of value is even, return the mean of two centered values\n",
    "        left_center_index = (len(list_arg)-1) / 2\n",
    "        right_center_index = (len(list_arg)+1) / 2\n",
    "        return mean(list_arg[left_center_index],list_arg[right_center_index])"
   ]
  },
  {
   "cell_type": "code",
   "execution_count": 309,
   "metadata": {},
   "outputs": [
    {
     "data": {
      "text/plain": [
       "10566"
      ]
     },
     "execution_count": 309,
     "metadata": {},
     "output_type": "execute_result"
    }
   ],
   "source": [
    "median(enrollment_values)"
   ]
  },
  {
   "cell_type": "code",
   "execution_count": 310,
   "metadata": {},
   "outputs": [
    {
     "name": "stdout",
     "output_type": "stream",
     "text": [
      "***********************\n",
      "Total students: 77,285\n",
      "Total Tuition: $ 271,905\n",
      "   \n",
      "Students mean: 11,040.71\n",
      "Students median: 10,566\n",
      "   \n",
      "Tuition mean: $ 38,843.57\n",
      "Tuition median: $ 39,849\n",
      "***********************\n"
     ]
    }
   ],
   "source": [
    "print('***********************')\n",
    "print(f'Total students: {sum(enrollment_values):,}')\n",
    "print(f'Total Tuition: $ {sum(tuition):,}')\n",
    "print('   ')\n",
    "print(f'Students mean: {mean(enrollment_values):,.2f}')\n",
    "print(f'Students median: {median(enrollment_values):,}')\n",
    "print('   ')\n",
    "print(f'Tuition mean: $ {mean(tuition):,.2f}')\n",
    "print(f'Tuition median: $ {median(tuition):,}')\n",
    "print('***********************')"
   ]
  },
  {
   "cell_type": "markdown",
   "metadata": {},
   "source": [
    "### Dictionaries\n",
    "\n",
    "1. Unordered\n",
    "2. Iterable\n",
    "3. Mutable\n",
    "\n",
    "A Python dictionary is a data structure that relates a set of keys to a\n",
    "set of values. Each key is assigned a single value, which defines the\n",
    "relationship between the two sets."
   ]
  },
  {
   "cell_type": "code",
   "execution_count": 357,
   "metadata": {},
   "outputs": [],
   "source": [
    "# dic literals\n",
    "capitals = {\n",
    "    'Belgium':'Brussels',\n",
    "    'Spain':'Madrid',\n",
    "    'Italy':'Rome'\n",
    "}"
   ]
  },
  {
   "cell_type": "markdown",
   "metadata": {},
   "source": [
    "#### Accessing Dict values"
   ]
  },
  {
   "cell_type": "code",
   "execution_count": 358,
   "metadata": {},
   "outputs": [
    {
     "data": {
      "text/plain": [
       "'Brussels'"
      ]
     },
     "execution_count": 358,
     "metadata": {},
     "output_type": "execute_result"
    }
   ],
   "source": [
    "capitals['Belgium']"
   ]
  },
  {
   "cell_type": "markdown",
   "metadata": {},
   "source": [
    "Typing capitals[\"Texas\"] is easier to understand than capitals_list[2], and you don’t have to remember the order of data in a long list or tuple. \n",
    "\n",
    "<b>This idea of ordering is really the main difference between how items are accessed in a sequence type and in a dictionary.</b>\n",
    "\n",
    "Values in a sequence type are accessed by index, which is an integer value expressing the order of items in the sequence. On the other hand, items in a dictionary are accessed by key. Keys don’t define an order for dictionary items. They only provide a label that can be used to reference a value.\n"
   ]
  },
  {
   "cell_type": "code",
   "execution_count": 359,
   "metadata": {},
   "outputs": [
    {
     "data": {
      "text/plain": [
       "{'Belgium': 'Brussels',\n",
       " 'Spain': 'Madrod',\n",
       " 'Italy': 'Rome',\n",
       " 'Germany': 'Berlin'}"
      ]
     },
     "execution_count": 359,
     "metadata": {},
     "output_type": "execute_result"
    }
   ],
   "source": [
    "# adding a key-value\n",
    "capitals['Germany']='Berlin'\n",
    "capitals"
   ]
  },
  {
   "cell_type": "code",
   "execution_count": 362,
   "metadata": {
    "collapsed": true
   },
   "outputs": [
    {
     "ename": "KeyError",
     "evalue": "'Spain'",
     "output_type": "error",
     "traceback": [
      "\u001b[1;31m---------------------------------------------------------------------------\u001b[0m",
      "\u001b[1;31mKeyError\u001b[0m                                  Traceback (most recent call last)",
      "\u001b[1;32m<ipython-input-362-0f594d006d3f>\u001b[0m in \u001b[0;36m<module>\u001b[1;34m\u001b[0m\n\u001b[0;32m      1\u001b[0m \u001b[1;31m# removing a key-value\u001b[0m\u001b[1;33m\u001b[0m\u001b[1;33m\u001b[0m\u001b[1;33m\u001b[0m\u001b[0m\n\u001b[1;32m----> 2\u001b[1;33m \u001b[1;32mdel\u001b[0m \u001b[0mcapitals\u001b[0m\u001b[1;33m[\u001b[0m\u001b[1;34m'Spain'\u001b[0m\u001b[1;33m]\u001b[0m\u001b[1;33m\u001b[0m\u001b[1;33m\u001b[0m\u001b[0m\n\u001b[0m\u001b[0;32m      3\u001b[0m \u001b[0mcapitals\u001b[0m\u001b[1;33m\u001b[0m\u001b[1;33m\u001b[0m\u001b[0m\n",
      "\u001b[1;31mKeyError\u001b[0m: 'Spain'"
     ]
    }
   ],
   "source": [
    "# removing a key-value\n",
    "del capitals['Spain']"
   ]
  },
  {
   "cell_type": "code",
   "execution_count": 363,
   "metadata": {},
   "outputs": [
    {
     "data": {
      "text/plain": [
       "{'Belgium': 'Brussels', 'Italy': 'Rome', 'Germany': 'Berlin'}"
      ]
     },
     "execution_count": 363,
     "metadata": {},
     "output_type": "execute_result"
    }
   ],
   "source": [
    "capitals"
   ]
  },
  {
   "cell_type": "code",
   "execution_count": 365,
   "metadata": {},
   "outputs": [
    {
     "name": "stdout",
     "output_type": "stream",
     "text": [
      "Belgium\n",
      "Italy\n",
      "Germany\n"
     ]
    }
   ],
   "source": [
    "# iterate with key\n",
    "for key in capitals:\n",
    "    print(f'{key}')"
   ]
  },
  {
   "cell_type": "code",
   "execution_count": 368,
   "metadata": {},
   "outputs": [
    {
     "name": "stdout",
     "output_type": "stream",
     "text": [
      "Belgium-Brussels\n",
      "Italy-Rome\n",
      "Germany-Berlin\n"
     ]
    }
   ],
   "source": [
    "# iterate with key-value using .items()\n",
    "for key, value in capitals.items():\n",
    "    print(f'{key}-{value}')"
   ]
  },
  {
   "cell_type": "markdown",
   "metadata": {},
   "source": [
    "### Dict Keys and Immutability\n",
    "\n",
    "<b>Only immutable types are allowed.</b> \n",
    "This means, for example, that a list can’t be a dictionary key.\n",
    "\n",
    "Valid Dictionary Key Types:<br>\n",
    "- integers<br>\n",
    "- floats<br>\n",
    "- strings<br>\n",
    "- Booleans<br>\n",
    "- tuples"
   ]
  },
  {
   "cell_type": "markdown",
   "metadata": {},
   "source": [
    "### Nested Dictionnaries"
   ]
  },
  {
   "cell_type": "code",
   "execution_count": 370,
   "metadata": {},
   "outputs": [],
   "source": [
    "states = {\n",
    " \"California\": {\n",
    " \"capital\": \"Sacramento\",\n",
    " \"flower\": \"California Poppy\"\n",
    " },\n",
    " \"New York\": {\n",
    " \"capital\": \"Albany\",\n",
    " \"flower\": \"Rose\"\n",
    " },\n",
    " \"Texas\": {\n",
    " \"capital\": \"Austin\",\n",
    " \"flower\": \"Bluebonnet\"\n",
    " },\n",
    " }"
   ]
  },
  {
   "cell_type": "code",
   "execution_count": 371,
   "metadata": {},
   "outputs": [
    {
     "data": {
      "text/plain": [
       "{'capital': 'Sacramento', 'flower': 'California Poppy'}"
      ]
     },
     "execution_count": 371,
     "metadata": {},
     "output_type": "execute_result"
    }
   ],
   "source": [
    "states['California']"
   ]
  },
  {
   "cell_type": "markdown",
   "metadata": {},
   "source": [
    "#### Challenge"
   ]
  },
  {
   "cell_type": "code",
   "execution_count": 372,
   "metadata": {},
   "outputs": [],
   "source": [
    "captains = {}"
   ]
  },
  {
   "cell_type": "code",
   "execution_count": 385,
   "metadata": {},
   "outputs": [],
   "source": [
    "captains = {\n",
    "    'Entreprise':'Picard',\n",
    "    'Voyager':'Janeway',\n",
    "    'Defiant':'Sisko'\n",
    "           }"
   ]
  },
  {
   "cell_type": "code",
   "execution_count": 386,
   "metadata": {},
   "outputs": [],
   "source": [
    "if 'Entreprise' not in captains:\n",
    "    captains['Entreprise'] = 'unknown'"
   ]
  },
  {
   "cell_type": "code",
   "execution_count": 387,
   "metadata": {},
   "outputs": [],
   "source": [
    "if 'Discovery' not in captains:\n",
    "    captains['Discovery'] = 'unknown'"
   ]
  },
  {
   "cell_type": "code",
   "execution_count": 388,
   "metadata": {},
   "outputs": [
    {
     "data": {
      "text/plain": [
       "{'Entreprise': 'Picard',\n",
       " 'Voyager': 'Janeway',\n",
       " 'Defiant': 'Sisko',\n",
       " 'Discovery': 'unknown'}"
      ]
     },
     "execution_count": 388,
     "metadata": {},
     "output_type": "execute_result"
    }
   ],
   "source": [
    "captains"
   ]
  },
  {
   "cell_type": "code",
   "execution_count": 390,
   "metadata": {},
   "outputs": [
    {
     "name": "stdout",
     "output_type": "stream",
     "text": [
      "The Entreprise is captained by Picard\n",
      "The Voyager is captained by Janeway\n",
      "The Defiant is captained by Sisko\n",
      "The Discovery is captained by unknown\n"
     ]
    }
   ],
   "source": [
    "for key, value in captains.items():\n",
    "    print(f'The {key} is captained by {value}')"
   ]
  },
  {
   "cell_type": "code",
   "execution_count": 392,
   "metadata": {},
   "outputs": [],
   "source": [
    "del captains['Discovery']"
   ]
  },
  {
   "cell_type": "code",
   "execution_count": 396,
   "metadata": {},
   "outputs": [
    {
     "data": {
      "text/plain": [
       "{'Entreprise': 'Picard', 'Voyager': 'Janeway', 'Defiant': 'Sisko'}"
      ]
     },
     "execution_count": 396,
     "metadata": {},
     "output_type": "execute_result"
    }
   ],
   "source": [
    "dict([('Entreprise','Picard'),\n",
    "     ('Voyager','Janeway'),\n",
    "     ('Defiant','Sisko')])"
   ]
  },
  {
   "cell_type": "markdown",
   "metadata": {},
   "source": [
    "#### Challenge"
   ]
  },
  {
   "cell_type": "code",
   "execution_count": 397,
   "metadata": {},
   "outputs": [],
   "source": [
    "capitals_dict = {\n",
    "'Alabama': 'Montgomery',\n",
    "'Alaska': 'Juneau',\n",
    "'Arizona': 'Phoenix',\n",
    "'Arkansas': 'Little Rock',\n",
    "'California': 'Sacramento',\n",
    "'Colorado': 'Denver',\n",
    "'Connecticut': 'Hartford',\n",
    "'Delaware': 'Dover',\n",
    "'Florida': 'Tallahassee',\n",
    "'Georgia': 'Atlanta',\n",
    "}"
   ]
  },
  {
   "cell_type": "code",
   "execution_count": 402,
   "metadata": {},
   "outputs": [],
   "source": [
    "key_list = []\n",
    "\n",
    "for key in capitals_dict:\n",
    "    key_list.append(key)"
   ]
  },
  {
   "cell_type": "code",
   "execution_count": 403,
   "metadata": {},
   "outputs": [
    {
     "data": {
      "text/plain": [
       "['Alabama',\n",
       " 'Alaska',\n",
       " 'Arizona',\n",
       " 'Arkansas',\n",
       " 'California',\n",
       " 'Colorado',\n",
       " 'Connecticut',\n",
       " 'Delaware',\n",
       " 'Florida',\n",
       " 'Georgia']"
      ]
     },
     "execution_count": 403,
     "metadata": {},
     "output_type": "execute_result"
    }
   ],
   "source": [
    "key_list"
   ]
  },
  {
   "cell_type": "code",
   "execution_count": 415,
   "metadata": {},
   "outputs": [
    {
     "name": "stdout",
     "output_type": "stream",
     "text": [
      "What is the capital of Alabama?\n",
      "exit\n",
      "The capital of Alabama is Montgomery. Goodbye\n"
     ]
    }
   ],
   "source": [
    "state = random.choice(key_list)\n",
    "capital = capitals_dict[state]\n",
    "print(f'What is the capital of {state}?')\n",
    "response = ''\n",
    "\n",
    "while response.lower() != capital.lower():\n",
    "    response = input()  \n",
    "    if response.lower() == 'exit':\n",
    "        print(f'The capital of {state} is {capital}. Goodbye')\n",
    "        break\n",
    "    elif response.lower() == capital.lower():\n",
    "        print(f'Correct')\n",
    "        break\n",
    "    else:\n",
    "        print(f'What is the capital of {state}?')"
   ]
  },
  {
   "cell_type": "markdown",
   "metadata": {},
   "source": [
    "### Challenge"
   ]
  },
  {
   "cell_type": "code",
   "execution_count": 441,
   "metadata": {},
   "outputs": [],
   "source": [
    "# first step create dictionnary with 100 cat and no hat\n",
    "cats = {}\n",
    "for key in range(1,101):\n",
    "    cats[key] = False\n",
    "\n",
    "# We go 100 rounds, hat on/off\n",
    "for rounds in range(1,101):\n",
    "    for cat, hat in cats.items():\n",
    "        if (cat % rounds) == 0:\n",
    "            if cats[cat] == True:\n",
    "                cats[cat] = False\n",
    "            else:\n",
    "                cats[cat] = True"
   ]
  },
  {
   "cell_type": "code",
   "execution_count": 453,
   "metadata": {},
   "outputs": [
    {
     "data": {
      "text/plain": [
       "{1: True,\n",
       " 4: True,\n",
       " 9: True,\n",
       " 16: True,\n",
       " 25: True,\n",
       " 36: True,\n",
       " 49: True,\n",
       " 64: True,\n",
       " 81: True,\n",
       " 100: True}"
      ]
     },
     "execution_count": 453,
     "metadata": {},
     "output_type": "execute_result"
    }
   ],
   "source": [
    "only_true_cat = {}\n",
    "\n",
    "for cat, hat in cats.items():\n",
    "    if hat == True:\n",
    "        only_true_cat[cat] = hat\n",
    "\n",
    "only_true_cat"
   ]
  },
  {
   "cell_type": "code",
   "execution_count": 435,
   "metadata": {
    "collapsed": true
   },
   "outputs": [
    {
     "name": "stdout",
     "output_type": "stream",
     "text": [
      "Cat 1 has a hat.\n",
      "Cat 2 is hatless!\n",
      "Cat 3 is hatless!\n",
      "Cat 4 has a hat.\n",
      "Cat 5 is hatless!\n",
      "Cat 6 is hatless!\n",
      "Cat 7 is hatless!\n",
      "Cat 8 is hatless!\n",
      "Cat 9 has a hat.\n",
      "Cat 10 is hatless!\n",
      "Cat 11 is hatless!\n",
      "Cat 12 is hatless!\n",
      "Cat 13 is hatless!\n",
      "Cat 14 is hatless!\n",
      "Cat 15 is hatless!\n",
      "Cat 16 has a hat.\n",
      "Cat 17 is hatless!\n",
      "Cat 18 is hatless!\n",
      "Cat 19 is hatless!\n",
      "Cat 20 is hatless!\n",
      "Cat 21 is hatless!\n",
      "Cat 22 is hatless!\n",
      "Cat 23 is hatless!\n",
      "Cat 24 is hatless!\n",
      "Cat 25 has a hat.\n",
      "Cat 26 is hatless!\n",
      "Cat 27 is hatless!\n",
      "Cat 28 is hatless!\n",
      "Cat 29 is hatless!\n",
      "Cat 30 is hatless!\n",
      "Cat 31 is hatless!\n",
      "Cat 32 is hatless!\n",
      "Cat 33 is hatless!\n",
      "Cat 34 is hatless!\n",
      "Cat 35 is hatless!\n",
      "Cat 36 has a hat.\n",
      "Cat 37 is hatless!\n",
      "Cat 38 is hatless!\n",
      "Cat 39 is hatless!\n",
      "Cat 40 is hatless!\n",
      "Cat 41 is hatless!\n",
      "Cat 42 is hatless!\n",
      "Cat 43 is hatless!\n",
      "Cat 44 is hatless!\n",
      "Cat 45 is hatless!\n",
      "Cat 46 is hatless!\n",
      "Cat 47 is hatless!\n",
      "Cat 48 is hatless!\n",
      "Cat 49 has a hat.\n",
      "Cat 50 is hatless!\n",
      "Cat 51 is hatless!\n",
      "Cat 52 is hatless!\n",
      "Cat 53 is hatless!\n",
      "Cat 54 is hatless!\n",
      "Cat 55 is hatless!\n",
      "Cat 56 is hatless!\n",
      "Cat 57 is hatless!\n",
      "Cat 58 is hatless!\n",
      "Cat 59 is hatless!\n",
      "Cat 60 is hatless!\n",
      "Cat 61 is hatless!\n",
      "Cat 62 is hatless!\n",
      "Cat 63 is hatless!\n",
      "Cat 64 has a hat.\n",
      "Cat 65 is hatless!\n",
      "Cat 66 is hatless!\n",
      "Cat 67 is hatless!\n",
      "Cat 68 is hatless!\n",
      "Cat 69 is hatless!\n",
      "Cat 70 is hatless!\n",
      "Cat 71 is hatless!\n",
      "Cat 72 is hatless!\n",
      "Cat 73 is hatless!\n",
      "Cat 74 is hatless!\n",
      "Cat 75 is hatless!\n",
      "Cat 76 is hatless!\n",
      "Cat 77 is hatless!\n",
      "Cat 78 is hatless!\n",
      "Cat 79 is hatless!\n",
      "Cat 80 is hatless!\n",
      "Cat 81 has a hat.\n",
      "Cat 82 is hatless!\n",
      "Cat 83 is hatless!\n",
      "Cat 84 is hatless!\n",
      "Cat 85 is hatless!\n",
      "Cat 86 is hatless!\n",
      "Cat 87 is hatless!\n",
      "Cat 88 is hatless!\n",
      "Cat 89 is hatless!\n",
      "Cat 90 is hatless!\n",
      "Cat 91 is hatless!\n",
      "Cat 92 is hatless!\n",
      "Cat 93 is hatless!\n",
      "Cat 94 is hatless!\n",
      "Cat 95 is hatless!\n",
      "Cat 96 is hatless!\n",
      "Cat 97 is hatless!\n",
      "Cat 98 is hatless!\n",
      "Cat 99 is hatless!\n",
      "Cat 100 has a hat.\n"
     ]
    }
   ],
   "source": [
    "theCats = {}\n",
    "\n",
    "for i in range(1, 101):\n",
    "    theCats[i] = False\n",
    "\n",
    "for i in range(1, 101):\n",
    "    for cats, hats in theCats.items():\n",
    "        if cats % i == 0:\n",
    "            if theCats[cats]:\n",
    "                theCats[cats] = False\n",
    "            else:\n",
    "                theCats[cats] = True\n",
    "\n",
    "for cats, hats in theCats.items():\n",
    "    if theCats[cats]:\n",
    "        print(f\"Cat {cats} has a hat.\")\n",
    "    else:\n",
    "        print(f\"Cat {cats} is hatless!\")"
   ]
  },
  {
   "cell_type": "code",
   "execution_count": 436,
   "metadata": {},
   "outputs": [
    {
     "name": "stdout",
     "output_type": "stream",
     "text": [
      "[1, 4, 9, 16, 25, 36, 49, 64, 81, 100]\n"
     ]
    }
   ],
   "source": [
    "number_of_cats = 100\n",
    "cats_with_hats = []\n",
    "number_of_laps = 100\n",
    "\n",
    "# We want the laps to be from 1 to 100 instead of 0 to 99\n",
    "for lap in range(1, number_of_laps + 1):\n",
    "    for cat in range(1, number_of_cats + 1):\n",
    "\n",
    "        # Only look at cats that are divisible by the lap\n",
    "        if cat % lap == 0:\n",
    "            if cat in cats_with_hats:\n",
    "                cats_with_hats.remove(cat)\n",
    "            else:\n",
    "                cats_with_hats.append(cat)\n",
    "\n",
    "print(cats_with_hats)"
   ]
  },
  {
   "cell_type": "markdown",
   "metadata": {},
   "source": [
    "## Object Oriented Programming\n",
    "<br>\n",
    "OOP, or object-oriented programming, is a method of structuring a program by bundling related properties and behaviors into individual objects.\n",
    "\n",
    "Classes are used to define and process a object. It provides consistency across the code base for a specific object.\n",
    "\n",
    " - <b>A class</b> is a blueprint for how something should be defined.<br>\n",
    "\n",
    " - <b>An instance</b>< is an object that is built from a class and that contains real data.br>\n",
    "\n",
    " - <b>An instance attribtue</b> is the value specific to a particular instance/object.<br>\n",
    "\n",
    " - <b>A class attribtue</b> is the value shared by all instances of the same class.<br>\n",
    "\n",
    " - <b>An instance method</b> is a function definied inside that class and can only be called from an instance of that class.<br>"
   ]
  },
  {
   "cell_type": "code",
   "execution_count": 534,
   "metadata": {},
   "outputs": [],
   "source": [
    "# Initiating an Object\n",
    "class Dog:\n",
    "    # Class attribute\n",
    "    species ='Canis familiaris'\n",
    "    # Instance attributes\n",
    "    def __init__(self,name,age,coat_color):\n",
    "        self.name = name\n",
    "        self.age = age\n",
    "        self.coat_color = coat_color\n",
    "\n",
    "    # Instance method\n",
    "    def description(self):\n",
    "        return f'{self.name} is {self.age} years old'\n",
    "    \n",
    "    def speak(self,sound):\n",
    "        return f'{self.name} barks: {sound}'\n",
    "    \n",
    "    # Dunder Methods - able to customize OOP in Python\n",
    "    def __str__(self):\n",
    "        return f'{self.name} is {self.age} years old'"
   ]
  },
  {
   "cell_type": "code",
   "execution_count": 535,
   "metadata": {},
   "outputs": [],
   "source": [
    "ravel = Dog('Ravel',12,'White and Black')\n",
    "aston = Dog('Aston',5,'Beige')\n",
    "eliot = Dog('Eliot',15,'Black')"
   ]
  },
  {
   "cell_type": "code",
   "execution_count": 515,
   "metadata": {},
   "outputs": [
    {
     "data": {
      "text/plain": [
       "'Ravel'"
      ]
     },
     "execution_count": 515,
     "metadata": {},
     "output_type": "execute_result"
    }
   ],
   "source": [
    "ravel.name"
   ]
  },
  {
   "cell_type": "code",
   "execution_count": 498,
   "metadata": {},
   "outputs": [
    {
     "data": {
      "text/plain": [
       "13"
      ]
     },
     "execution_count": 498,
     "metadata": {},
     "output_type": "execute_result"
    }
   ],
   "source": [
    "#Object are mutable hence can be changed dynamically\n",
    "ravel.age = 13\n",
    "ravel.age"
   ]
  },
  {
   "cell_type": "code",
   "execution_count": 503,
   "metadata": {},
   "outputs": [
    {
     "data": {
      "text/plain": [
       "'Ravel is 12 years old'"
      ]
     },
     "execution_count": 503,
     "metadata": {},
     "output_type": "execute_result"
    }
   ],
   "source": [
    "ravel.description()"
   ]
  },
  {
   "cell_type": "code",
   "execution_count": 504,
   "metadata": {},
   "outputs": [
    {
     "data": {
      "text/plain": [
       "'Ravel says Hiiii'"
      ]
     },
     "execution_count": 504,
     "metadata": {},
     "output_type": "execute_result"
    }
   ],
   "source": [
    "ravel.speak('Hiiii')"
   ]
  },
  {
   "cell_type": "code",
   "execution_count": 507,
   "metadata": {},
   "outputs": [
    {
     "name": "stdout",
     "output_type": "stream",
     "text": [
      "Ravel is 12 years old\n"
     ]
    }
   ],
   "source": [
    "print(ravel)"
   ]
  },
  {
   "cell_type": "code",
   "execution_count": 516,
   "metadata": {},
   "outputs": [
    {
     "name": "stdout",
     "output_type": "stream",
     "text": [
      "Eliot's coat is Black\n"
     ]
    }
   ],
   "source": [
    "print(f\"{eliot.name}'s coat is {eliot.coat_color}\")"
   ]
  },
  {
   "cell_type": "markdown",
   "metadata": {},
   "source": [
    "#### Challenge"
   ]
  },
  {
   "cell_type": "code",
   "execution_count": 522,
   "metadata": {},
   "outputs": [],
   "source": [
    "class car:\n",
    "    def __init__(self,color,mileage):\n",
    "        self.color = color\n",
    "        self.mileage = mileage\n",
    "    def drive(self, km):\n",
    "        self.mileage = self.mileage + km\n",
    "        return self.mileage"
   ]
  },
  {
   "cell_type": "code",
   "execution_count": 523,
   "metadata": {},
   "outputs": [],
   "source": [
    "car1 = car('red',0)"
   ]
  },
  {
   "cell_type": "code",
   "execution_count": 524,
   "metadata": {},
   "outputs": [
    {
     "data": {
      "text/plain": [
       "100"
      ]
     },
     "execution_count": 524,
     "metadata": {},
     "output_type": "execute_result"
    }
   ],
   "source": [
    "car1.drive(100)\n",
    "car1.mileage"
   ]
  },
  {
   "cell_type": "markdown",
   "metadata": {},
   "source": [
    "### Inherit from other classes"
   ]
  },
  {
   "cell_type": "markdown",
   "metadata": {},
   "source": [
    "Inheritance is the process by which one class takes on the attributes and methods of another.\n",
    "\n",
    "- <b>Child class</b> newly formed class within a Parent class<br>\n",
    "- <b>Parent class</b>, main class containing child class<br>\n",
    "\n",
    "Child classes can override or extend the attributes and methods of parent classes. In other words, child classes inherit all of the parent’s attributes and methods but can also specify attributes and methods that are unique to themselves"
   ]
  },
  {
   "cell_type": "code",
   "execution_count": 532,
   "metadata": {},
   "outputs": [],
   "source": [
    "class Bulldog(Dog):\n",
    "    def speak(self, sound='Woof'):\n",
    "        return super().speak(sound) #.super() is used to access parent class\n",
    "       #f'{self.name} says {sound}'"
   ]
  },
  {
   "cell_type": "code",
   "execution_count": 527,
   "metadata": {},
   "outputs": [],
   "source": [
    "jack = Bulldog('jack',3,'white')"
   ]
  },
  {
   "cell_type": "code",
   "execution_count": 528,
   "metadata": {},
   "outputs": [
    {
     "data": {
      "text/plain": [
       "'jack says Woof'"
      ]
     },
     "execution_count": 528,
     "metadata": {},
     "output_type": "execute_result"
    }
   ],
   "source": [
    "jack.speak()"
   ]
  },
  {
   "cell_type": "code",
   "execution_count": 531,
   "metadata": {},
   "outputs": [
    {
     "data": {
      "text/plain": [
       "'Ravel says hiii'"
      ]
     },
     "execution_count": 531,
     "metadata": {},
     "output_type": "execute_result"
    }
   ],
   "source": [
    "ravel.speak('hiii')"
   ]
  },
  {
   "cell_type": "code",
   "execution_count": 536,
   "metadata": {},
   "outputs": [
    {
     "data": {
      "text/plain": [
       "'Ravel barks: hiii'"
      ]
     },
     "execution_count": 536,
     "metadata": {},
     "output_type": "execute_result"
    }
   ],
   "source": [
    "ravel.speak('hiii')"
   ]
  },
  {
   "cell_type": "markdown",
   "metadata": {},
   "source": [
    "#### Challenge"
   ]
  },
  {
   "cell_type": "code",
   "execution_count": 540,
   "metadata": {},
   "outputs": [],
   "source": [
    "class Dog1:\n",
    "    species = \"Canis familiaris\"\n",
    "    def __init__(self, name, age):\n",
    "        self.name = name\n",
    "        self.age = age\n",
    "    def __str__(self):\n",
    "        return f\"{self.name} is {self.age} years old\"\n",
    "    def speak(self, sound):\n",
    "        return f\"{self.name} says {sound}\"\n",
    "\n",
    "class GoldenRetriever(Dog1):\n",
    "    def speak(self, sound='Bark'):\n",
    "        return super().speak(sound='Bark')"
   ]
  },
  {
   "cell_type": "code",
   "execution_count": 543,
   "metadata": {},
   "outputs": [],
   "source": [
    "golden = GoldenRetriever('Aston',2)"
   ]
  },
  {
   "cell_type": "code",
   "execution_count": 544,
   "metadata": {},
   "outputs": [
    {
     "data": {
      "text/plain": [
       "'Aston says Bark'"
      ]
     },
     "execution_count": 544,
     "metadata": {},
     "output_type": "execute_result"
    }
   ],
   "source": [
    "golden.speak()"
   ]
  },
  {
   "cell_type": "markdown",
   "metadata": {},
   "source": [
    "#### Challenge"
   ]
  },
  {
   "cell_type": "code",
   "execution_count": 586,
   "metadata": {},
   "outputs": [
    {
     "data": {
      "text/plain": [
       "16"
      ]
     },
     "execution_count": 586,
     "metadata": {},
     "output_type": "execute_result"
    }
   ],
   "source": [
    "class Rectangle:\n",
    "    \n",
    "    def __init__(self,length,width):\n",
    "        self.length = length\n",
    "        self.width = width\n",
    "        \n",
    "    def area(self):\n",
    "        return self.length * self.width\n",
    "    \n",
    "class Square(Rectangle):\n",
    "    \n",
    "    def __init__(self, side_length):\n",
    "        super().__init__(side_length, side_length)\n",
    "\n",
    "square1 = Square(4)\n",
    "square1.area()\n",
    "# Use inheritance with caution"
   ]
  },
  {
   "cell_type": "markdown",
   "metadata": {},
   "source": [
    "#### Challenge"
   ]
  },
  {
   "cell_type": "code",
   "execution_count": 625,
   "metadata": {},
   "outputs": [],
   "source": [
    "class Animal:\n",
    "    \n",
    "    def __init__(self,specy,sleeping,legs,count):\n",
    "        self.specy = specy\n",
    "        self.sleeping = sleeping\n",
    "        self.legs = legs\n",
    "        self.count = count\n",
    "        \n",
    "    def count_animals(self):\n",
    "        return print(f'The farm has {self.count} {self.specy}')\n",
    "    \n",
    "    def describe(self):\n",
    "        return print(f'{self.specy} sleeps {self.sleeping} and run with {self.legs}')\n",
    "    \n",
    "class Chicken(Animal):\n",
    "    \n",
    "    def __init__(self, count):\n",
    "        super().__init__('Chicken','Outdoor','2 legs',count)\n",
    "        \n",
    "    def describe(self):\n",
    "        return super().describe()"
   ]
  },
  {
   "cell_type": "code",
   "execution_count": 626,
   "metadata": {},
   "outputs": [],
   "source": [
    "chicken1 = Chicken(55)"
   ]
  },
  {
   "cell_type": "code",
   "execution_count": 627,
   "metadata": {},
   "outputs": [
    {
     "name": "stdout",
     "output_type": "stream",
     "text": [
      "Chicken sleeps Outdoor and run with 2 legs\n"
     ]
    }
   ],
   "source": [
    "chicken1.describe()"
   ]
  },
  {
   "cell_type": "code",
   "execution_count": 623,
   "metadata": {},
   "outputs": [],
   "source": [
    "sheep1 = Animal('Sheep','outdoor','4',198)"
   ]
  },
  {
   "cell_type": "code",
   "execution_count": 624,
   "metadata": {},
   "outputs": [
    {
     "name": "stdout",
     "output_type": "stream",
     "text": [
      "Sheep sleeps outdoor and run with 4\n"
     ]
    }
   ],
   "source": [
    "sheep1.describe()"
   ]
  }
 ],
 "metadata": {
  "kernelspec": {
   "display_name": "Python 3",
   "language": "python",
   "name": "python3"
  },
  "language_info": {
   "codemirror_mode": {
    "name": "ipython",
    "version": 3
   },
   "file_extension": ".py",
   "mimetype": "text/x-python",
   "name": "python",
   "nbconvert_exporter": "python",
   "pygments_lexer": "ipython3",
   "version": "3.9.4"
  }
 },
 "nbformat": 4,
 "nbformat_minor": 4
}
