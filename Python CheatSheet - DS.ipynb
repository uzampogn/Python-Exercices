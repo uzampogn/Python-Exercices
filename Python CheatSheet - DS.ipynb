{
 "cells": [
  {
   "cell_type": "markdown",
   "id": "ef1c8b53",
   "metadata": {},
   "source": [
    "### Table of Contents\n",
    "\n",
    "* [Linked List](#linkedli)\n",
    "* [Stack&Queue](#sq)\n",
    "    * [Stack](#stack)\n",
    "    * [Queues](#queues)\n",
    "    * [SQ libraries](#sqlib)\n",
    "        * [deque](#deque)\n",
    "        * [heap](#heap)\n",
    "        * [bisect](#bisect)\n",
    "* [Binary Tree](#binary)\n",
    "* [Graph](#graph)\n",
    "* [Tuples](#tuples)\n",
    "* [Lists](#lists)\n",
    "    * [Lists Methods](#listsMethods)\n",
    "    * [Lists comprehensions](#listsComprehensions)\n",
    "    * [Lists copy](#copy)\n",
    "    * [Multidimensional list](#multilist)\n",
    "* [Dictionaries](#dictionaries)\n",
    "    * [Dictionaries Keys](#key)\n",
    "    * [DefaultDict](#defaultdict)\n",
    "    * [Nested Dictionaries](#nestedDictionaries)  \n",
    "* [Math operators](#math) \n",
    "* [String Methods](#stringMethods) \n",
    "* [Functions](#functions) \n",
    "    * [Built-in](#builtin)\n",
    "        * enumerates\n",
    "        * sorted\n",
    "        * zip\n",
    "    * [Itertools](#itertools)  \n",
    "* [Loops](#loops) \n",
    "* [Operators](#operators)\n",
    "    * [Conditional logic](#conditionalLogic) \n",
    "    * [Arithemic Operators](#arithemicOperators)    \n",
    "* [Control flow](#if)\n",
    "* [Challenges](#challenges)"
   ]
  },
  {
   "cell_type": "markdown",
   "id": "1d7ed643",
   "metadata": {},
   "source": [
    "Useful links:\n",
    "- https://docs.python.org/3/tutorial/datastructures.html\n",
    "- https://www.bigocheatsheet.com/"
   ]
  },
  {
   "cell_type": "code",
   "execution_count": 19,
   "id": "7cd8e092",
   "metadata": {
    "slideshow": {
     "slide_type": "notes"
    }
   },
   "outputs": [],
   "source": [
    "# ![title](img/picture.png) Insert image"
   ]
  },
  {
   "cell_type": "markdown",
   "id": "4786cb26",
   "metadata": {},
   "source": [
    "### Linked list <a class=\"anchor\" id=\"linkedli\"></a>\n",
    "https://www.geeksforgeeks.org/linked-list-set-3-deleting-node/\n",
    "https://realpython.com/lessons/comparing-lists-vs-linked/\n",
    "\n",
    "A linked list is a linear data structure. Unlike arrays, linked list elements are not stored at a contiguous location; the elements are simple objects stored in memory with pointers.\n",
    "\n",
    "Arrays can be used to stor data of <b>similar types</b>. Arrays limitations:\n",
    "\n",
    "    - Size of array is fixed\n",
    "    - Inserting/Deleting element is expensive as the other elements need to be shifted (resizing)\n",
    "\n",
    "Linked List pros over Arrays:\n",
    "\n",
    "    - A node in a linked list is just an object in memory\n",
    "    - Dynamic size - as it is not stored as a contiguous block\n",
    "    - Ease of insertion/deletion (head/tail)\n",
    "    \n",
    "Linked List cons over Arrays:\n",
    "\n",
    "    - Randown access is not allowed\n",
    "    - Extra memory space for pointer\n",
    "    - Not cache friendly. Arrays are contiguous locations hence there is a locality of reference. Not for LL\n",
    "    \n",
    "Linked List is represented by a pointer to the first node of the list (head). If LL is empty, then head is null.\n",
    "Each node is composed of data and pointer.\n",
    "\n",
    "To delete a node, you need to:\n",
    "\n",
    "    - if it's the head:\n",
    "        - Set head.next as new head of the list\n",
    "        - Previous head to None\n",
    "        \n",
    "    - else\n",
    "        - traverse the node\n",
    "        - keep track of previous node\n",
    "        - when you identify the node to be deleted\n",
    "        - Set previous node.next to node to be deleted.next\n",
    "        - Set node to be deleted to None\n",
    "\n",
    "To delete the entire list, you need to:\n",
    "\n",
    "    - Set head to None; Python's garbage collector will identified this object as unusable and delete it from memory \n",
    "    \n",
    "NB: As long as there's no reference to the head of the list, then the entire list is \"stranded\" and will by garbage collected by the Python runtime. The memory will be freed."
   ]
  },
  {
   "cell_type": "code",
   "execution_count": 172,
   "id": "6f2fdd63",
   "metadata": {},
   "outputs": [],
   "source": [
    "class Node:\n",
    "    def __init__(self,data):\n",
    "        self.data = data\n",
    "        self.next = None\n",
    "\n",
    "class LinkedList:\n",
    "    def __init__(self):\n",
    "        self.head = None\n",
    "        \n",
    "    def pushLeft(self,data):\n",
    "        newNode = Node(data)\n",
    "        newNode.next = self.head\n",
    "        self.head = newNode\n",
    "        \n",
    "    def append(self,data):\n",
    "        newNode = Node(data)\n",
    "        \n",
    "        #if LL is empty\n",
    "        if self.head == None:\n",
    "            self.head = newNode\n",
    "            \n",
    "        #Traverse \n",
    "        last = self.head\n",
    "        while last.next:\n",
    "            last = last.next\n",
    "        \n",
    "        last.next = newNode\n",
    "    \n",
    "    def insert(self,data,position):\n",
    "        newNode = Node(data)\n",
    "        \n",
    "        if position == 0:\n",
    "            if self.head == None:\n",
    "                self.head = newNode\n",
    "            else:\n",
    "                tmp = self.head\n",
    "                newNode.next = tmp\n",
    "                self.head = newNode\n",
    "            return\n",
    "            \n",
    "        current = self.head\n",
    "        for i in range(position):\n",
    "            previous = current\n",
    "            current = current.next\n",
    "        \n",
    "        newNode.next = current\n",
    "        previous.next = newNode\n",
    "            \n",
    "    def deleteNode(self, key):\n",
    "        current = self.head\n",
    "        \n",
    "        if current is not None:\n",
    "            if current.data == key:\n",
    "                self.head = current.next\n",
    "                current = None\n",
    "                return\n",
    "        \n",
    "        while current:\n",
    "            if current.data == key:\n",
    "                break\n",
    "            prev = current\n",
    "            current = current.next\n",
    "        \n",
    "        if current == None:\n",
    "            return\n",
    "        \n",
    "        prev.next = current.next\n",
    "        \n",
    "        current = None\n",
    "        \n",
    "    def deleteAll(self):\n",
    "        self.head = None\n",
    "        #garbage collection happens hence that's that easy\n",
    "        #There are a few different methods for automatic memory management. The popular ones use reference counting. \n",
    "        #With reference counting, the runtime keeps track of all of the references to an object. \n",
    "        #When an object has zero references to it, it’s unusable by the program code and can be deleted.\n",
    "        #https://stackify.com/python-garbage-collection/\n",
    "        \n",
    "    def printList(self):\n",
    "        current = self.head\n",
    "        while current:\n",
    "            print(current.data),\n",
    "            current = current.next\n",
    "        "
   ]
  },
  {
   "cell_type": "code",
   "execution_count": 173,
   "id": "7dee3b08",
   "metadata": {},
   "outputs": [],
   "source": [
    "llist = LinkedList()"
   ]
  },
  {
   "cell_type": "code",
   "execution_count": 174,
   "id": "0550dd39",
   "metadata": {},
   "outputs": [],
   "source": [
    "llist.pushLeft(8)\n",
    "llist.append(9)"
   ]
  },
  {
   "cell_type": "code",
   "execution_count": 179,
   "id": "8d99dbb8",
   "metadata": {},
   "outputs": [],
   "source": [
    "llist.insert(7,4)"
   ]
  },
  {
   "cell_type": "code",
   "execution_count": 182,
   "id": "f187f03a",
   "metadata": {},
   "outputs": [],
   "source": [
    "llist.deleteNode(7)"
   ]
  },
  {
   "cell_type": "code",
   "execution_count": 185,
   "id": "f6686e7c",
   "metadata": {},
   "outputs": [],
   "source": [
    "llist.printList()"
   ]
  },
  {
   "cell_type": "code",
   "execution_count": 184,
   "id": "4eafae0f",
   "metadata": {},
   "outputs": [],
   "source": [
    "llist.deleteAll()"
   ]
  },
  {
   "cell_type": "markdown",
   "id": "41e3a7fe",
   "metadata": {},
   "source": [
    "### Stack & Queue <a class=\"anchor\" id=\"sq\"></a>\n",
    "#### Stack <a class=\"anchor\" id=\"stack\"></a>\n",
    "\n",
    "- LIFO : Last In First Out\n",
    "\n",
    "Can be implemented via:\n",
    "1. List\n",
    "    - Pros: Fast Random Access\n",
    "    - Cons: Require occasinoal resizing when add or remove elements\n",
    "2. Deque (doubly-linked list)\n",
    "    - Pros: Fast append & delete O(1)\n",
    "    - Cons: O(n) random access as the list need to be traversed"
   ]
  },
  {
   "cell_type": "markdown",
   "id": "3e24dfa8",
   "metadata": {},
   "source": [
    "#### Queues <a class=\"anchor\" id=\"queues\"></a>\n",
    "\n",
    "- FIFO : First In First Out\n",
    "\n",
    "Can be implemented via:\n",
    "1. List (not recommended)\n",
    "    - Pros: /\n",
    "    - Cons: Adding or Deleting elements from beginning of the list has O(n) time complexity as all othe elements need to be shifted by one position\n",
    "2. Deque (doubly-linked list)\n",
    "    - Pros: Fast append & delete O(1)\n",
    "    - Cons: O(n) random access as the list need to be traversed"
   ]
  },
  {
   "cell_type": "markdown",
   "id": "5ee46af9",
   "metadata": {},
   "source": [
    "##### Deque <a class=\"anchor\" id=\"deque\"></a>\n",
    "from collections import deque<br>\n",
    "doubly-linked list"
   ]
  },
  {
   "cell_type": "code",
   "execution_count": null,
   "id": "1741444f",
   "metadata": {},
   "outputs": [],
   "source": [
    "#### Deque Methods - https://www.geeksforgeeks.org/deque-in-python/\n",
    "from collections import deque\n",
    "de = collections.deque([1, 2, 3, 3, 4, 2, 4])\n",
    "\n",
    "# append() = insert value right end of deque\n",
    "\n",
    "# appendleft() = insert value left end of deque\n",
    "\n",
    "# pop() = remove value right end of deque\n",
    "\n",
    "# popleft() = remove value left end of deque\n",
    "\n",
    "# extend(iterable) = insert multiple values on right end\n",
    "\n",
    "# extendleft(iterable) = insert multiple values on left end\n",
    "\n",
    "# insert(i,a) = insert value a at index i\n",
    "\n",
    "# remove(a) = remove the first occurence of a value a\n",
    "\n",
    "# count(a) = count number of occurences of value a\n",
    "\n",
    "# reverse() = reverse order of deque elements\n",
    "\n",
    "# rotate(int) = rotate by x elements (negative number rotate to left)\n",
    "\n",
    "# index(ele,beg,end) = return the first index of the value\n",
    "\n",
    "print(de.index(4,0,len(de)))\n",
    "de[0]\n",
    "de[5]\n",
    "de[-1]"
   ]
  },
  {
   "cell_type": "markdown",
   "id": "6acdf7b0",
   "metadata": {},
   "source": [
    "##### Heap <a class=\"anchor\" id=\"heap\"></a>\n",
    "\n",
    "import heapq<br>\n",
    "\n",
    "<b>Priority queue:</b> A priority queue is a container data structure that manages a set of records with totally-ordered keys (for example, a numeric weight value) to provide quick access to the record with the smallest or largest key in the set.\n",
    "\n",
    "Whenever elements are pushed or popped, heap structure in maintained. The heap[0] element also returns the smallest element each time."
   ]
  },
  {
   "cell_type": "code",
   "execution_count": 37,
   "id": "6c99e0ed",
   "metadata": {
    "scrolled": true
   },
   "outputs": [
    {
     "name": "stdout",
     "output_type": "stream",
     "text": [
      "[1, 3, 9, 7, 5]\n",
      "[1, 3, 4, 7, 5, 9]\n"
     ]
    },
    {
     "data": {
      "text/plain": [
       "[4, 4, 5]"
      ]
     },
     "execution_count": 37,
     "metadata": {},
     "output_type": "execute_result"
    }
   ],
   "source": [
    "#Methods\n",
    "import heapq\n",
    "test_heap = [5, 7, 9, 1, 3]\n",
    "\n",
    "#heapify(iterable) - convert iterable into a heap\n",
    "heapq.heapify(test_heap)\n",
    "print(test_heap)\n",
    "\n",
    "#heappush(heap,ele) - insert the element mentioned in its arguments into heap. \n",
    "#The order is adjusted, so as heap structure is maintained.\n",
    "heapq.heappush(test_heap,4)\n",
    "print(test_heap)\n",
    "\n",
    "#heappop(heap) - remove and return the smallest element from heap. \n",
    "#The order is adjusted, so as heap structure is maintained.\n",
    "heapq.heappop(test_heap)\n",
    "\n",
    "#heappushpop(heap,ele) - combines the functioning of both push and pop operations in one statement, increasing efficiency\n",
    "#push new element and pop smallest ele of heap (may be the new element)\n",
    "heapq.heappushpop(test_heap,4)\n",
    "\n",
    "#heapreplace(heap,ele) - element is first popped, then the element is pushed.i.e\n",
    "#, the value larger than the pushed value can be returned. heapreplace() \n",
    "#returns the smallest value originally in heap regardless of the pushed element as opposed to heappushpop()\n",
    "heapq.heapreplace(test_heap,4)\n",
    "\n",
    "#nlargest(k, iterable, key) \n",
    "#return the k largest elements from the iterable specified and satisfying the key if mentioned.\n",
    "heapq.nlargest(3,test_heap)\n",
    "\n",
    "#nsmallest(k, iterable, key) \n",
    "#return the k smallest elements from the iterable specified and satisfying the key if mentioned.\n",
    "heapq.nsmallest(3,test_heap)"
   ]
  },
  {
   "cell_type": "markdown",
   "id": "aeb39936",
   "metadata": {},
   "source": [
    "##### Bisect <a class=\"anchor\" id=\"bisect\"></a>\n",
    "\n",
    "import bisect<br>\n",
    "\n",
    "allows to keep the list in sorted order after insertion of each element. \n",
    "\n",
    "This is essential as this reduces overhead time required to sort the list again and again after insertion of each element."
   ]
  },
  {
   "cell_type": "code",
   "execution_count": 52,
   "id": "94f46841",
   "metadata": {},
   "outputs": [
    {
     "name": "stdout",
     "output_type": "stream",
     "text": [
      "[0, 3, 1, 8, 6]\n"
     ]
    }
   ],
   "source": [
    "#Functions\n",
    "import bisect as bi\n",
    "test_bi = [3,1,8,6]\n",
    "\n",
    "#bisect(list, num, beg, end)\n",
    "#This function takes 4 arguments,\n",
    "#list which has to be worked with, number to insert, \n",
    "#starting position in list to consider, ending position which has to be considered.\n",
    "#return the position in sorted list\n",
    "#If the element is already present in the list, the right most position where element has to be inserted is returned.\n",
    "bi.bisect(test_bi,2)\n",
    "\n",
    "#bisect_left(list, num, beg, end)\n",
    "#same than bisect except\n",
    "#If the element is already present in the list, the left most position where element has to be inserted is returned.\n",
    "bi.bisect_left(test_bi,1)\n",
    "\n",
    "#insort(list, num, beg, end)\n",
    "#returns the sorted list after inserting number in appropriate position\n",
    "bi.insort(test_bi,0)\n",
    "print(test_bi)"
   ]
  },
  {
   "cell_type": "markdown",
   "id": "f43a7f0a",
   "metadata": {},
   "source": [
    "### Binary Tree <a class=\"anchor\" id=\"binary\"></a>\n",
    "\n",
    "Non-linear data structure:\n",
    "- One node is marked as Root Node\n",
    "- Every node except root node is associated with one parent node\n",
    "- Each node can have two children"
   ]
  },
  {
   "cell_type": "code",
   "execution_count": 18,
   "id": "e6432afc",
   "metadata": {},
   "outputs": [
    {
     "name": "stdout",
     "output_type": "stream",
     "text": [
      "0\n",
      "3\n",
      "4\n",
      "20\n",
      "56\n",
      "67\n"
     ]
    }
   ],
   "source": [
    "# Create Binary Tree - literals\n",
    "\n",
    "class Node:\n",
    "    \n",
    "    def __init__(self, data):\n",
    "        self.left = None\n",
    "        self.right = None\n",
    "        self.data = data\n",
    "    \n",
    "    def insert(self,data):\n",
    "        if self.data:       # if the tree contains any value\n",
    "            if data < self.data: # check if new data is smaller than parent node data\n",
    "                if self.left is None: # check if left node is free\n",
    "                    self.left = Node(data) # if yes, insert data\n",
    "                else:\n",
    "                    self.left.insert(data) # else, recursively call insert function\n",
    "            elif data > self.data: # check if new data is greater than node data\n",
    "                if self.right is None:\n",
    "                    self.right = Node(data)\n",
    "                else:\n",
    "                    self.right.insert(data)\n",
    "        else:\n",
    "            self.data = data # if tree is empty, write data\n",
    "    \n",
    "    def PrintTree(self):\n",
    "        if self.left: #check if left node exist\n",
    "            self.left.PrintTree() # recursively print left arm\n",
    "        print(self.data), # print main node\n",
    "        if self.right: # if right node exits\n",
    "            self.right.PrintTree() # recursively print right arm\n",
    "\n",
    "root = Node(20)\n",
    "root.insert(4)\n",
    "root.insert(56)\n",
    "root.insert(67)\n",
    "root.insert(3)\n",
    "root.insert(0)\n",
    "\n",
    "root.PrintTree()"
   ]
  },
  {
   "cell_type": "code",
   "execution_count": null,
   "id": "c8d8250c",
   "metadata": {},
   "outputs": [],
   "source": [
    "# https://www.geeksforgeeks.org/binarytree-module-in-python/\n",
    "\n",
    "# pip install binarytree"
   ]
  },
  {
   "cell_type": "markdown",
   "id": "1fb01281",
   "metadata": {},
   "source": [
    "### Graph <a class=\"anchor\" id=\"graph\"></a>\n",
    "\n",
    "Graph show the relationships between connected entities<br>\n",
    "It can be represent in an adjacency list (dictionnary):\n",
    "1. Vertex as key\n",
    "2. Vertices as linked list - representing all possible vertices you czan travel to from the given vertex in one move"
   ]
  },
  {
   "cell_type": "markdown",
   "id": "e110331f",
   "metadata": {},
   "source": [
    "### Tuples <a class=\"anchor\" id=\"tuples\"></a>\n",
    "1. Tuples are ordered\n",
    "2. Tuples are immutable\n",
    "3. Tuples are iterable (can use for loop)\n",
    "4. Tuples may contain any type of value, incl. different types"
   ]
  },
  {
   "cell_type": "code",
   "execution_count": null,
   "id": "6a44f7f8",
   "metadata": {},
   "outputs": [],
   "source": [
    "# Tuple literals\n",
    "ex_tuple = (1,2,3)\n",
    "\n",
    "# Built-in Tuple\n",
    "# Built-in Tuple only accept single parameters\n",
    "tuple('Ulysse')"
   ]
  },
  {
   "cell_type": "code",
   "execution_count": null,
   "id": "ac4cdcc7",
   "metadata": {},
   "outputs": [],
   "source": [
    "# Indexing and slicing works with tuples\n",
    "ex2_tuple[1:]\n",
    "\n",
    "# In Operator with Tuple\n",
    "1 in ex_tuple\n",
    "\n",
    "# Packing and Unpacking Tuples\n",
    "a = 33.4,44.44,99.55 #Packing type = tuple\n",
    "b,c,d = a #Unpacking type = float (in this case)"
   ]
  },
  {
   "cell_type": "markdown",
   "id": "82cd92e8",
   "metadata": {},
   "source": [
    "### Lists <a class=\"anchor\" id=\"lists\"></a>\n",
    "\n",
    "   1. List are ordered\n",
    "   2. Lists are <b>mutable</b>\n",
    "   3. Lists are iterable (can use for loop)\n",
    "\n",
    "NB: String, Tuple and list are SEQUENCE type data. Meaning it contains items that are indexed by integers."
   ]
  },
  {
   "cell_type": "markdown",
   "id": "745d609b",
   "metadata": {},
   "source": [
    "#### Lists Methods <a class=\"anchor\" id=\"listsMethods\"></a>\n",
    "\n",
    ".split() > convert a string in a list based on a delimiter <br>\n",
    ".insert() > insert a single new value in a list NB: inplace alteration<br>\n",
    ".pop() > removes a single value<br>\n",
    ".append() > add one element at the end of a list<br>\n",
    ".extend() > add multiple elements at the end of a list"
   ]
  },
  {
   "cell_type": "code",
   "execution_count": 27,
   "id": "f163f726",
   "metadata": {},
   "outputs": [
    {
     "data": {
      "text/plain": [
       "[' coffee', ' milk', 'eggs', ['eggs', ' milk', ' coffee'], 'man']"
      ]
     },
     "execution_count": 27,
     "metadata": {},
     "output_type": "execute_result"
    }
   ],
   "source": [
    "#List literal\n",
    "list_ex = ['yo','man']\n",
    "\n",
    "#Built-in List\n",
    "list_ex1 = list(('yo','man'))\n",
    "\n",
    "# Indexing and slicing works with Lists\n",
    "# Lower-bound inclusive\n",
    "# Upper-bound exclusive\n",
    "list_ex = list_ex[:3]\n",
    "list_ex\n",
    "\n",
    "# Overwrite existing list with list[:]\n",
    "list_ex = list_ex[:]\n",
    "\n",
    " # .split() method > convert a string into a list\n",
    "groceries = 'eggs, milk, coffee'\n",
    "list_ex2 = groceries.split(',')\n",
    "type(list_ex2)\n",
    "\n",
    "# .insert(index,value)\n",
    "list_ex.insert(3,'yo')\n",
    "\n",
    "# .pop()\n",
    "list_ex.pop() #no parameters, remove the last value\n",
    "\n",
    "# .remove(element)\n",
    "list_ex.remove('yo')\n",
    "\n",
    "# .append() add one element\n",
    "list_ex.append(groceries.split(','))\n",
    "list_ex\n",
    "\n",
    "# .extend() add multiple elements\n",
    "list_ex.extend(groceries.split(','))\n",
    "list_ex\n",
    "\n",
    "# .reverse() reverse string\n",
    "list_ex.reverse()\n",
    "list_ex\n",
    "\n",
    "# .clear() empty all list    ==   del list1[:]\n",
    "list_ex.clear()\n"
   ]
  },
  {
   "cell_type": "markdown",
   "id": "2728d8f8",
   "metadata": {},
   "source": [
    "#### List Comprehensions <a class=\"anchor\" id=\"listsComprehensions\"></a>\n",
    "\n",
    "Shorthand for loop from iterable"
   ]
  },
  {
   "cell_type": "code",
   "execution_count": null,
   "id": "decf1694",
   "metadata": {},
   "outputs": [],
   "source": [
    "str_num = ['1.4','3.5','6.6']\n",
    "converted_num = [float(n) for n in str_num]\n",
    "type(converted_num[0])"
   ]
  },
  {
   "cell_type": "markdown",
   "id": "797cdf94",
   "metadata": {},
   "source": [
    "#### Nesting, Copying and Sorting Tuples and Lists <a class=\"anchor\" id=\"copy\"></a>"
   ]
  },
  {
   "cell_type": "code",
   "execution_count": null,
   "id": "d442636d",
   "metadata": {},
   "outputs": [],
   "source": [
    "# Copying: Shallow vs Deepcopy\n",
    "# To shallow copy a list use slice notication [:]\n",
    "str_num2 = str_num[:]\n",
    "\n",
    "# To deepcopy a list of lists import copy\n",
    "import copy\n",
    "str_num3 = ['1.4','3.5','6.6',['1.4','3.5','6.6']]\n",
    "str_num3_copy = copy.deepcopy(str_num3)\n",
    "str_num3_copy"
   ]
  },
  {
   "cell_type": "markdown",
   "id": "1818e0fc",
   "metadata": {},
   "source": [
    "Notes: A variable name is really just a reference to a specific location in computer memory. Instead of copying all the contents of the list object\n",
    "and creating a new list, large_cats = animals assigns the memory location referenced by animals to large_cats. That is, both variables now\n",
    "refer to the same object in memory, and any changes made to one will\n",
    "affect the other."
   ]
  },
  {
   "cell_type": "markdown",
   "id": "fa585967",
   "metadata": {},
   "source": [
    "#### Multidimensional Array / Lists <a class=\"anchor\" id=\"multilist\"></a>\n",
    "http://ilan.schnell-web.net/prog/slicing/"
   ]
  },
  {
   "cell_type": "code",
   "execution_count": 12,
   "id": "3a6a5d30",
   "metadata": {},
   "outputs": [],
   "source": [
    "board = [[\"8\",\"3\",\".\",\".\",\"7\",\".\",\".\",\".\",\".\"]\n",
    ",[\"6\",\".\",\".\",\"1\",\"9\",\"5\",\".\",\".\",\".\"]\n",
    ",[\".\",\"9\",\"8\",\".\",\".\",\".\",\".\",\"6\",\".\"]\n",
    ",[\"8\",\".\",\".\",\".\",\"6\",\".\",\".\",\".\",\"3\"]\n",
    ",[\"4\",\".\",\".\",\"8\",\".\",\"3\",\".\",\".\",\"1\"]\n",
    ",[\"7\",\".\",\".\",\".\",\"2\",\".\",\".\",\".\",\"6\"]\n",
    ",[\".\",\"6\",\".\",\".\",\".\",\".\",\"2\",\"8\",\".\"]\n",
    ",[\".\",\".\",\".\",\"4\",\"1\",\"9\",\".\",\".\",\"5\"]\n",
    ",[\".\",\".\",\".\",\".\",\"8\",\".\",\".\",\"7\",\"9\"]]"
   ]
  },
  {
   "cell_type": "code",
   "execution_count": 13,
   "id": "21ebed3f",
   "metadata": {},
   "outputs": [
    {
     "data": {
      "text/plain": [
       "'3'"
      ]
     },
     "execution_count": 13,
     "metadata": {},
     "output_type": "execute_result"
    }
   ],
   "source": [
    "#retrieve one element from multidimensional list\n",
    "board[0][1]"
   ]
  },
  {
   "cell_type": "code",
   "execution_count": 25,
   "id": "cc7dec54",
   "metadata": {
    "scrolled": true
   },
   "outputs": [
    {
     "name": "stdout",
     "output_type": "stream",
     "text": [
      "['8', '3', '.', '.', '7', '.', '.', '.', '.']\n",
      "['6', '.', '.', '1', '9', '5', '.', '.', '.']\n",
      "['.', '9', '8', '.', '.', '.', '.', '6', '.']\n",
      "['8', '.', '.', '.', '6', '.', '.', '.', '3']\n",
      "['4', '.', '.', '8', '.', '3', '.', '.', '1']\n",
      "['7', '.', '.', '.', '2', '.', '.', '.', '6']\n",
      "['.', '6', '.', '.', '.', '.', '2', '8', '.']\n",
      "['.', '.', '.', '4', '1', '9', '.', '.', '5']\n",
      "['.', '.', '.', '.', '8', '.', '.', '7', '9']\n"
     ]
    }
   ],
   "source": [
    "for rows in board:\n",
    "    print(rows)"
   ]
  },
  {
   "cell_type": "code",
   "execution_count": 26,
   "id": "99b691b8",
   "metadata": {},
   "outputs": [
    {
     "name": "stdout",
     "output_type": "stream",
     "text": [
      "('8', '6', '.', '8', '4', '7', '.', '.', '.')\n",
      "('3', '.', '9', '.', '.', '.', '6', '.', '.')\n",
      "('.', '.', '8', '.', '.', '.', '.', '.', '.')\n",
      "('.', '1', '.', '.', '8', '.', '.', '4', '.')\n",
      "('7', '9', '.', '6', '.', '2', '.', '1', '8')\n",
      "('.', '5', '.', '.', '3', '.', '.', '9', '.')\n",
      "('.', '.', '.', '.', '.', '.', '2', '.', '.')\n",
      "('.', '.', '6', '.', '.', '.', '8', '.', '7')\n",
      "('.', '.', '.', '3', '1', '6', '.', '5', '9')\n"
     ]
    }
   ],
   "source": [
    "for col in zip(*board):\n",
    "    print(col)"
   ]
  },
  {
   "cell_type": "code",
   "execution_count": 14,
   "id": "29836b51",
   "metadata": {},
   "outputs": [
    {
     "data": {
      "text/plain": [
       "[['6', '.', '.', '1', '9', '5', '.', '.', '.']]"
      ]
     },
     "execution_count": 14,
     "metadata": {},
     "output_type": "execute_result"
    }
   ],
   "source": [
    "#retrieve multiple elements from multidimensional list\n",
    "#NOTE SLICING FOR MULTIDIMENSIONAL LIST DOES NOT WORK\n",
    "board[0:2][0:2]"
   ]
  },
  {
   "cell_type": "code",
   "execution_count": 16,
   "id": "644c4014",
   "metadata": {},
   "outputs": [
    {
     "data": {
      "text/plain": [
       "[['8', '3'], ['6', '.']]"
      ]
     },
     "execution_count": 16,
     "metadata": {},
     "output_type": "execute_result"
    }
   ],
   "source": [
    "#Trick: Use numpy arrays\n",
    "from numpy import *\n",
    "board_array = array(board)\n",
    "board_array[0:2,0:2].tolist()"
   ]
  },
  {
   "cell_type": "code",
   "execution_count": 20,
   "id": "395845ca",
   "metadata": {},
   "outputs": [
    {
     "name": "stdout",
     "output_type": "stream",
     "text": [
      "('8', '6', '.', '8', '4', '7', '.', '.', '.')\n",
      "('3', '.', '9', '.', '.', '.', '6', '.', '.')\n",
      "('.', '.', '8', '.', '.', '.', '.', '.', '.')\n",
      "('.', '1', '.', '.', '8', '.', '.', '4', '.')\n",
      "('7', '9', '.', '6', '.', '2', '.', '1', '8')\n",
      "('.', '5', '.', '.', '3', '.', '.', '9', '.')\n",
      "('.', '.', '.', '.', '.', '.', '2', '.', '.')\n",
      "('.', '.', '6', '.', '.', '.', '8', '.', '7')\n",
      "('.', '.', '.', '3', '1', '6', '.', '5', '9')\n"
     ]
    }
   ],
   "source": [
    "b = zip(*board)\n",
    "for i in b:\n",
    "    print(i)"
   ]
  },
  {
   "cell_type": "markdown",
   "id": "e4ea57b7",
   "metadata": {},
   "source": [
    "### Dictionaries <a class=\"anchor\" id=\"dictionaries\"></a>\n",
    "\n",
    "1. Unordered\n",
    "2. Iterable\n",
    "3. Mutable\n",
    "\n",
    "A Python dictionary is a data structure that relates a set of keys to a\n",
    "set of values. Each key is assigned a single value, which defines the\n",
    "relationship between the two sets.\n",
    "\n",
    "#### Dict Keys and Immutability <a class=\"anchor\" id=\"dictionaries key\"></a>\n",
    "\n",
    "<b>Only immutable types are allowed.</b> \n",
    "This means, for example, that a list can’t be a dictionary key.\n",
    "\n",
    "Valid Dictionary Key Types:<br>\n",
    "- integers<br>\n",
    "- floats<br>\n",
    "- strings<br>\n",
    "- Booleans<br>\n",
    "- tuples"
   ]
  },
  {
   "cell_type": "code",
   "execution_count": 2,
   "id": "ba2ea565",
   "metadata": {},
   "outputs": [],
   "source": [
    "# dict literals\n",
    "capitals = {\n",
    "    'Belgium':'Brussels',\n",
    "    'Spain':'Madrid',\n",
    "    'Italy':'Rome'\n",
    "}\n",
    "\n",
    "# Built-in dict()\n",
    "capitals_us = dict([\n",
    "('Colorado', 'Rockies'),\n",
    "('Boston', 'Red Sox'),\n",
    "('Minnesota', 'Twins'),\n",
    "('Milwaukee', 'Brewers') \n",
    "])"
   ]
  },
  {
   "cell_type": "code",
   "execution_count": null,
   "id": "529bfe9b",
   "metadata": {},
   "outputs": [],
   "source": [
    "# accessing value\n",
    "capitals['Belgium']\n",
    "\n",
    "# adding a key-value\n",
    "capitals['Germany']='Berlin'\n",
    "capitals\n",
    "\n",
    "# removing a key-value\n",
    "del capitals['Spain']\n",
    "\n",
    "# iterate with key\n",
    "key_list = []\n",
    "for key in capitals_dict:\n",
    "    key_list.append(key)\n",
    "    \n",
    "# iterate with key-value using .items()\n",
    "for key, value in capitals.items():\n",
    "    print(f'{key}-{value}')"
   ]
  },
  {
   "cell_type": "markdown",
   "id": "21ffed8b",
   "metadata": {},
   "source": [
    "#### Default Dict<a class=\"anchor\" id=\"defaultdict\"></a>\n",
    "\n",
    "Reference: https://realpython.com/python-defaultdict/\n",
    "\n",
    "The Python standard library provides collections, which is a module that implements specialized container types. One of those is the Python defaultdict type, which is an alternative to dict that’s specifically designed to help you out with missing keys.\n",
    "\n",
    "Sometimes, you’ll use a mutable built-in collection (a list, dict, or set) as values in your Python dictionaries. In these cases, you’ll need to initialize the keys before first use, or you’ll get a KeyError. You can either do this process manually or automate it using a Python defaultdict. In this section, you’ll learn how to use the Python defaultdict type for solving some common programming problems:\n",
    "\n",
    "    * Grouping the items in a collection\n",
    "    * Counting the items in a collection\n",
    "    * Accumulating the values in a collection"
   ]
  },
  {
   "cell_type": "code",
   "execution_count": 4,
   "id": "cdd69ea8",
   "metadata": {},
   "outputs": [],
   "source": [
    "#Grouping example\n",
    "\n",
    "dep = [('Sales', 'John Doe'),\n",
    "       ('Sales', 'Martin Smith'),\n",
    "       ('Accounting', 'Jane Doe'),\n",
    "       ('Marketing', 'Elizabeth Smith'),\n",
    "       ('Marketing', 'Adam Doe')]\n",
    "\n",
    "from collections import defaultdict\n",
    "\n",
    "dep_dd = defaultdict(list) #to group UNIQUE elements, use SET insted of LIST\n",
    "for department, employee in dep:\n",
    "    dep_dd[department].append(employee)"
   ]
  },
  {
   "cell_type": "code",
   "execution_count": 6,
   "id": "22becce4",
   "metadata": {},
   "outputs": [
    {
     "data": {
      "text/plain": [
       "defaultdict(list,\n",
       "            {'Sales': ['John Doe', 'Martin Smith'],\n",
       "             'Accounting': ['Jane Doe'],\n",
       "             'Marketing': ['Elizabeth Smith', 'Adam Doe']})"
      ]
     },
     "execution_count": 6,
     "metadata": {},
     "output_type": "execute_result"
    }
   ],
   "source": [
    "dep_dd"
   ]
  },
  {
   "cell_type": "code",
   "execution_count": 8,
   "id": "1160c8e6",
   "metadata": {},
   "outputs": [
    {
     "data": {
      "text/plain": [
       "defaultdict(int, {'Sales': 2, 'Accounting': 1, 'Marketing': 2})"
      ]
     },
     "execution_count": 8,
     "metadata": {},
     "output_type": "execute_result"
    }
   ],
   "source": [
    "#Counting example\n",
    "from collections import defaultdict\n",
    "dep = [('Sales', 'John Doe'),\n",
    "        ('Sales', 'Martin Smith'),\n",
    "        ('Accounting', 'Jane Doe'),\n",
    "        ('Marketing', 'Elizabeth Smith'),\n",
    "        ('Marketing', 'Adam Doe')]\n",
    "dd = defaultdict(int)\n",
    "for department, _ in dep:\n",
    "     dd[department] += 1\n",
    "dd"
   ]
  },
  {
   "cell_type": "code",
   "execution_count": 9,
   "id": "acf92ec3",
   "metadata": {},
   "outputs": [
    {
     "name": "stdout",
     "output_type": "stream",
     "text": [
      "Total income for Books: $3,970.00\n",
      "Total income for Tutorials: $1,940.00\n",
      "Total income for Courses: $7,680.00\n"
     ]
    }
   ],
   "source": [
    "#Accumulating values\n",
    "incomes = [('Books', 1250.00),\n",
    "           ('Books', 1300.00),\n",
    "           ('Books', 1420.00),\n",
    "           ('Tutorials', 560.00),\n",
    "           ('Tutorials', 630.00),\n",
    "           ('Tutorials', 750.00),\n",
    "           ('Courses', 2500.00),\n",
    "           ('Courses', 2430.00),\n",
    "           ('Courses', 2750.00),]\n",
    "\n",
    "from collections import defaultdict\n",
    "\n",
    "dd = defaultdict(float)\n",
    "for product, income in incomes:\n",
    "    dd[product] += income\n",
    "\n",
    "for product, income in dd.items():\n",
    "    print(f'Total income for {product}: ${income:,.2f}')"
   ]
  },
  {
   "cell_type": "markdown",
   "id": "96f8768a",
   "metadata": {},
   "source": [
    "#### Nested Dictionnaries <a class=\"anchor\" id=\"nestedDictionaries\"></a>"
   ]
  },
  {
   "cell_type": "code",
   "execution_count": 3,
   "id": "810794f7",
   "metadata": {},
   "outputs": [
    {
     "data": {
      "text/plain": [
       "{'capital': 'Sacramento', 'flower': 'California Poppy'}"
      ]
     },
     "execution_count": 3,
     "metadata": {},
     "output_type": "execute_result"
    }
   ],
   "source": [
    "states = {\n",
    " \"California\": {\n",
    " \"capital\": \"Sacramento\",\n",
    " \"flower\": \"California Poppy\"\n",
    " },\n",
    " \"New York\": {\n",
    " \"capital\": \"Albany\",\n",
    " \"flower\": \"Rose\"\n",
    " },\n",
    " \"Texas\": {\n",
    " \"capital\": \"Austin\",\n",
    " \"flower\": \"Bluebonnet\"\n",
    " },\n",
    " }\n",
    "\n",
    "\n",
    "states['California']"
   ]
  },
  {
   "cell_type": "markdown",
   "id": "96caf928",
   "metadata": {},
   "source": [
    "### Operators"
   ]
  },
  {
   "cell_type": "markdown",
   "id": "2dc489d2",
   "metadata": {},
   "source": []
  },
  {
   "cell_type": "markdown",
   "id": "3c107ac1",
   "metadata": {},
   "source": [
    "### Math Methods <a class=\"anchor\" id=\"math\"></a>\n",
    "- .round(int/flot, int limits decimal) > round to the nearest integer\n",
    "- .abs()\n",
    "- .pow()\n",
    "- Print numbers and % in style - {n:.2f}"
   ]
  },
  {
   "cell_type": "markdown",
   "id": "1d930509",
   "metadata": {},
   "source": [
    "### String methods: <a class=\"anchor\" id=\"stringMethods\"></a>\n",
    "- .upper() and .lower()\n",
    "- .rstrip() > remove space from right side\n",
    "- .lstrip() > remove space from left side\n",
    "- .strip() > remove space from both side\n",
    "- .startswith('string') > Return Boolean (! is case sensitive)\n",
    "- .endswith('string') > Return Boolean (! is case sensitive)\n",
    "- .find() > find a substring in a string\n",
    "- .replace() > replace each instance of a substring with another string"
   ]
  },
  {
   "cell_type": "markdown",
   "id": "f378e7f2",
   "metadata": {},
   "source": [
    "### Functions <a class=\"anchor\" id=\"functions\"></a>"
   ]
  },
  {
   "cell_type": "code",
   "execution_count": null,
   "id": "683c898b",
   "metadata": {},
   "outputs": [],
   "source": [
    "def convert_cel_to_far(x):\n",
    "    '''Add description'''\n",
    "    conversion_far = float(x) * 9/5 + 32\n",
    "    return conversion_far\n",
    "\n",
    "def convert_far_to_cel(x):\n",
    "    conversion_cel = (float(x)-32) * 5/9\n",
    "    return conversion_cel\n",
    "\n",
    "print('Input a temp in Fahrenheit: ')\n",
    "far = input()\n",
    "far_to_cel = convert_far_to_cel(far)\n",
    "print(f'Conversion from Far to Cel: {far_to_cel:.2f}')\n",
    "\n",
    "print('Input a temp in Celsius: ')\n",
    "cel = input()\n",
    "cel_to_far = convert_cel_to_far(cel)\n",
    "print(f'Conversion from Far to Cel: {cel_to_far:.2f}')\n",
    "help(convert_cel_to_far)"
   ]
  },
  {
   "cell_type": "markdown",
   "id": "f6a115db",
   "metadata": {},
   "source": [
    "### Built-in Functions <a class=\"anchor\" id=\"builtin\"></a>\n",
    "\n",
    "- <b>enumerate(iterable, start=optional)</b>\n",
    "    - create a counter for each iterable\n",
    "    - returns enumerate object\n",
    "    - This enumerate object can then be used directly in for loops or be converted into a list of tuples using list() method."
   ]
  },
  {
   "cell_type": "code",
   "execution_count": 21,
   "id": "00318b24",
   "metadata": {
    "scrolled": true
   },
   "outputs": [
    {
     "name": "stdout",
     "output_type": "stream",
     "text": [
      "0 U\n",
      "1 l\n",
      "2 y\n",
      "3 s\n",
      "4 s\n",
      "5 e\n"
     ]
    }
   ],
   "source": [
    "test_en = 'Ulysse'\n",
    "for i, char in enumerate(test_en):\n",
    "    print(i,char)"
   ]
  },
  {
   "cell_type": "code",
   "execution_count": 22,
   "id": "3695cf32",
   "metadata": {},
   "outputs": [
    {
     "name": "stdout",
     "output_type": "stream",
     "text": [
      "[(0, 'U'), (1, 'l'), (2, 'y'), (3, 's'), (4, 's'), (5, 'e')]\n"
     ]
    }
   ],
   "source": [
    "print(list(enumerate(test_en)))"
   ]
  },
  {
   "cell_type": "markdown",
   "id": "c487a484",
   "metadata": {},
   "source": [
    "- <b>sorted(iterable, key, reverse)</b>\n",
    "    - sort list,str,dict,tuple,... according to key\n",
    "    - returns a sorted list\n",
    "    - reverse = True for DESC"
   ]
  },
  {
   "cell_type": "code",
   "execution_count": null,
   "id": "e0402167",
   "metadata": {},
   "outputs": [],
   "source": [
    "#sort a dictionary\n",
    "sorted_seq = sorted(sequences_of_3.items(),key= lambda item:item[1], reverse=True)"
   ]
  },
  {
   "cell_type": "markdown",
   "id": "2c1cc78a",
   "metadata": {},
   "source": [
    "- <b>zip(element1,element2,...)</b>\n",
    "    - Returns an iterator of tuples, where the i-th tuple contains the i-th element from each of the argument sequences or iterables. The iterator stops when the shortest input iterable is exhausted. With a single iterable argument, it returns an iterator of 1-tuples. With no arguments, it returns an empty iterator.\n",
    "    - arg must be iterable"
   ]
  },
  {
   "cell_type": "code",
   "execution_count": 22,
   "id": "2b7122f8",
   "metadata": {},
   "outputs": [],
   "source": [
    "username = [\"joe\",\"joe\",\"joe\",\"james\",\"james\",\"james\",\"james\",\"mary\",\"mary\",\"mary\"]\n",
    "timestamp = [1,2,3,4,5,6,7,8,9,10]\n",
    "website = [\"home\",\"about\",\"career\",\"home\",\"cart\",\"maps\",\"home\",\"home\",\"about\",\"career\"]\n",
    "\n",
    "records = []\n",
    "\n",
    "for user, time, web in zip(username,timestamp,website):\n",
    "        records.append([user,time,web])"
   ]
  },
  {
   "cell_type": "code",
   "execution_count": 23,
   "id": "452cdd8b",
   "metadata": {},
   "outputs": [
    {
     "name": "stdout",
     "output_type": "stream",
     "text": [
      "('joe', 'joe', 'joe', 'james', 'james', 'james', 'james', 'mary', 'mary', 'mary')\n",
      "(1, 2, 3, 4, 5, 6, 7, 8, 9, 10)\n",
      "('home', 'about', 'career', 'home', 'cart', 'maps', 'home', 'home', 'about', 'career')\n"
     ]
    }
   ],
   "source": [
    "#Unpacking a sequence with zip\n",
    "#https://realpython.com/python-zip-function/\n",
    "\n",
    "for i in zip(*records):\n",
    "    print(i)"
   ]
  },
  {
   "cell_type": "markdown",
   "id": "8b89b13d",
   "metadata": {},
   "source": [
    "### Itertools <a class=\"anchor\" id=\"itertools\"></a>\n",
    "\n",
    "- <b>combinations(iterable, r=max_length)</b>\n",
    "    - It returns r length subsequences of elements from the input iterable. Combinations are emitted in lexicographic sort order. So, if the input iterable is sorted, the combination tuples will be produced in sorted order."
   ]
  },
  {
   "cell_type": "markdown",
   "id": "118e579a",
   "metadata": {},
   "source": [
    "### Loops <a class=\"anchor\" id=\"loops\"></a>\n",
    "- While\n",
    "- For"
   ]
  },
  {
   "cell_type": "code",
   "execution_count": null,
   "id": "81022efe",
   "metadata": {},
   "outputs": [],
   "source": [
    "def invest(amount, rate, years):\n",
    "    \"\"\"Return the compounded interest based on amount, rate, years\"\"\"\n",
    "    for y in range(years):\n",
    "        amount = float(amount) * ((float(rate)/100)+1)\n",
    "        y += 1\n",
    "        print(f'years {y}: ${amount:.2f}')"
   ]
  },
  {
   "cell_type": "code",
   "execution_count": null,
   "id": "fe6379e8",
   "metadata": {},
   "outputs": [],
   "source": [
    "invest(10000,7,10)"
   ]
  },
  {
   "cell_type": "markdown",
   "id": "3d03f684",
   "metadata": {},
   "source": [
    "### Operators  <a class=\"anchor\" id=\"operators\"></a>\n",
    "\n",
    "#### Conditional logic <a class=\"anchor\" id=\"conditionalLogic\"></a>\n",
    "- Boolean comparator\n",
    "    - ' > '\n",
    "    - ' < '\n",
    "    - ' >= '\n",
    "    - ' <= '\n",
    "    - ' != '\n",
    "    - ' == '\n",
    "    - ' __ ' equals to"
   ]
  },
  {
   "cell_type": "markdown",
   "id": "b73cdfd2",
   "metadata": {},
   "source": [
    "#### Arithemic operators: <a class=\"anchor\" id=\"arithemicOperators\"></a>\n",
    "- Floor division: //\n",
    "- Power operator: **\n",
    "- Modulus operator: %"
   ]
  },
  {
   "cell_type": "markdown",
   "id": "6a7e5377",
   "metadata": {},
   "source": [
    "### Control flow <a class=\"anchor\" id=\"if\"></a>\n",
    "- <b>if</b>  <b>elif</b>  <b>else</b>  statement"
   ]
  },
  {
   "cell_type": "code",
   "execution_count": null,
   "id": "82f9901f",
   "metadata": {},
   "outputs": [],
   "source": [
    "#Example of complex if\n",
    "sport = sport.lower()\n",
    "\n",
    "if p1_score == p2_score:\n",
    "    print(\"The game is a draw.\")\n",
    "elif (sport == \"basketball\") or (sport == \"golf\"):\n",
    "    p1_wins_bball = (sport == \"basketball\") and (p1_score > p2_score)\n",
    "    p1_wins_golf = (sport == \"golf\") and (p1_score < p2_score)\n",
    "    p1_wins = p1_wins_bball or p1_wins_golf\n",
    "    if p1_wins:\n",
    "        print(\"Player 1 wins.\")\n",
    "    else:\n",
    "        print(\"Player 2 wins.\")\n",
    "else:\n",
    "    print(\"Unknown sport\")"
   ]
  },
  {
   "cell_type": "markdown",
   "id": "fb439d65",
   "metadata": {},
   "source": [
    "### Challenges <a class=\"anchor\" id=\"challenges\"></a>"
   ]
  },
  {
   "cell_type": "markdown",
   "id": "25928ee0",
   "metadata": {},
   "source": [
    "Dictionnary 1"
   ]
  },
  {
   "cell_type": "code",
   "execution_count": 1,
   "id": "f1a5fb4e",
   "metadata": {},
   "outputs": [
    {
     "name": "stdout",
     "output_type": "stream",
     "text": [
      "***********************\n",
      "Total students: 77,285\n",
      "Total Tuition: $ 271,905\n",
      "   \n",
      "Students mean: 11,040.71\n",
      "Students median: 10,566\n",
      "   \n",
      "Tuition mean: $ 38,843.57\n",
      "Tuition median: $ 39,849\n",
      "***********************\n"
     ]
    }
   ],
   "source": [
    "universities = [\n",
    "['California Institute of Technology', 2175, 37704],\n",
    "['Harvard', 19627, 39849],\n",
    "['Massachusetts Institute of Technology', 10566, 40732],\n",
    "['Princeton', 7802, 37000],\n",
    "['Rice', 5879, 35551],\n",
    "['Stanford', 19535, 40569],\n",
    "['Yale', 11701, 40500]\n",
    "]\n",
    "\n",
    "def enrollment_stat(uni_date):\n",
    "    \"\"\"Extract second and third index of nested list;\n",
    "       Return two separate lists\"\"\"\n",
    "    students = []\n",
    "    for i in uni_date:\n",
    "        students.append(i[1])\n",
    "    \n",
    "    tuition = []\n",
    "    for i in uni_date:\n",
    "        tuition.append(i[2])\n",
    "    \n",
    "    return students, tuition\n",
    "\n",
    "\n",
    "#unpacking the two lists returned by the function\n",
    "enrollment_values, tuition = enrollment_stat(universities)\n",
    "\n",
    "def mean(list_arg):\n",
    "    return sum(list_arg)/len(list_arg)\n",
    "\n",
    "def median(list_arg):\n",
    "    \"\"\"Return the median value of the list 'list_arg'\"\"\"\n",
    "    list_arg.sort()\n",
    "    #If the number of value is odd, return centered value\n",
    "    if len(list_arg)%2 == 1:\n",
    "        index = int(len(list_arg)/2) #int() round down\n",
    "        return list_arg[index]\n",
    "    else:\n",
    "        #If number of value is even, return the mean of two centered values\n",
    "        left_center_index = (len(list_arg)-1) / 2\n",
    "        right_center_index = (len(list_arg)+1) / 2\n",
    "        return mean(list_arg[left_center_index],list_arg[right_center_index])\n",
    "    \n",
    "print('***********************')\n",
    "print(f'Total students: {sum(enrollment_values):,}')\n",
    "print(f'Total Tuition: $ {sum(tuition):,}')\n",
    "print('   ')\n",
    "print(f'Students mean: {mean(enrollment_values):,.2f}')\n",
    "print(f'Students median: {median(enrollment_values):,}')\n",
    "print('   ')\n",
    "print(f'Tuition mean: $ {mean(tuition):,.2f}')\n",
    "print(f'Tuition median: $ {median(tuition):,}')\n",
    "print('***********************')"
   ]
  },
  {
   "cell_type": "markdown",
   "id": "2dfeee63",
   "metadata": {},
   "source": [
    "Dictionnary2"
   ]
  },
  {
   "cell_type": "code",
   "execution_count": null,
   "id": "03d12359",
   "metadata": {},
   "outputs": [],
   "source": [
    "# first step create dictionnary with 100 cat and no hat\n",
    "cats = {}\n",
    "for key in range(1,101):\n",
    "    cats[key] = False\n",
    "\n",
    "# We go 100 rounds, hat on/off\n",
    "for rounds in range(1,101):\n",
    "    for cat, hat in cats.items():\n",
    "        if (cat % rounds) == 0:\n",
    "            if cats[cat] == True:\n",
    "                cats[cat] = False\n",
    "            else:\n",
    "                cats[cat] = True\n",
    "\n",
    "only_true_cat = {}\n",
    "\n",
    "for cat, hat in cats.items():\n",
    "    if hat == True:\n",
    "        only_true_cat[cat] = hat\n",
    "\n",
    "only_true_cat"
   ]
  }
 ],
 "metadata": {
  "kernelspec": {
   "display_name": "Python 3",
   "language": "python",
   "name": "python3"
  },
  "language_info": {
   "codemirror_mode": {
    "name": "ipython",
    "version": 3
   },
   "file_extension": ".py",
   "mimetype": "text/x-python",
   "name": "python",
   "nbconvert_exporter": "python",
   "pygments_lexer": "ipython3",
   "version": "3.9.4"
  }
 },
 "nbformat": 4,
 "nbformat_minor": 5
}
