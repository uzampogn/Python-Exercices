{
 "cells": [
  {
   "cell_type": "markdown",
   "id": "a12d5678",
   "metadata": {},
   "source": [
    "## String to Integer (atoi)\n",
    "\n",
    "Implement the myAtoi(string s) function, which converts a string to a 32-bit signed integer (similar to C/C++'s atoi function).\n",
    "\n",
    "The algorithm for myAtoi(string s) is as follows:\n",
    "\n",
    "Read in and ignore any leading whitespace.\n",
    "Check if the next character (if not already at the end of the string) is '-' or '+'. Read this character in if it is either. This determines if the final result is negative or positive respectively. Assume the result is positive if neither is present.\n",
    "Read in next the characters until the next non-digit charcter or the end of the input is reached. The rest of the string is ignored.\n",
    "Convert these digits into an integer (i.e. \"123\" -> 123, \"0032\" -> 32). If no digits were read, then the integer is 0. Change the sign as necessary (from step 2).\n",
    "If the integer is out of the 32-bit signed integer range [-231, 231 - 1], then clamp the integer so that it remains in the range. Specifically, integers less than -231 should be clamped to -231, and integers greater than 231 - 1 should be clamped to 231 - 1.\n",
    "Return the integer as the final result.\n",
    "Note:\n",
    "\n",
    "Only the space character ' ' is considered a whitespace character.\n",
    "Do not ignore any characters other than the leading whitespace or the rest of the string after the digits.\n",
    "\n",
    "<b>Example 2:</b>\n",
    "\n",
    "Input: s = \"   -42\"<br>\n",
    "Output: -42<br>\n",
    "Explanation:<br>\n",
    "Step 1: \"   -42\" (leading whitespace is read and ignored)<br>\n",
    "            ^\n",
    "Step 2: \"   -42\" ('-' is read, so the result should be negative)\n",
    "             ^\n",
    "Step 3: \"   -42\" (\"42\" is read in)\n",
    "               ^\n",
    "The parsed integer is -42.<br>\n",
    "Since -42 is in the range [-231, 231 - 1], the final result is -42.\n",
    "\n",
    "<b>Example 4:</b>\n",
    "\n",
    "Input: s = \"words and 987\"<br>\n",
    "Output: 0<br>\n",
    "Explanation:<br>\n",
    "Step 1: \"words and 987\" (no characters read because there is no leading whitespace)\n",
    "         ^\n",
    "Step 2: \"words and 987\" (no characters read because there is neither a '-' nor '+')\n",
    "         ^\n",
    "Step 3: \"words and 987\" (reading stops immediately because there is a non-digit 'w')\n",
    "         ^\n",
    "The parsed integer is 0 because no digits were read.<br>\n",
    "Since 0 is in the range [-231, 231 - 1], the final result is 0."
   ]
  },
  {
   "cell_type": "code",
   "execution_count": 143,
   "id": "1402f65c",
   "metadata": {},
   "outputs": [],
   "source": [
    "def myAtoi(s):\n",
    "    n = len(s)\n",
    "    neg_flag = \"\"\n",
    "    ans = []\n",
    "\n",
    "    if n == 0:\n",
    "        return 0\n",
    "\n",
    "    for ele in s:\n",
    "        if ele == \" \" and len(neg_flag)+len(ans) == 0: \n",
    "            #pass leading white space\n",
    "            continue\n",
    "\n",
    "        if ele in ['-','+']:\n",
    "            if len(neg_flag)+len(ans) == 0:\n",
    "                neg_flag = ele\n",
    "                continue\n",
    "            else:\n",
    "                break\n",
    "\n",
    "        if ele.isnumeric():\n",
    "            ans.append(ele)\n",
    "            continue\n",
    "        else:\n",
    "            break      \n",
    "\n",
    "    if len(ans) == 0:\n",
    "        return 0\n",
    "    else:\n",
    "        integer = \"\".join(ans)\n",
    "        integer = int(integer)\n",
    "\n",
    "        if neg_flag == '-':\n",
    "            integer = -integer\n",
    "\n",
    "        if -2**31 <= integer < 2**31:\n",
    "            return integer\n",
    "        else:\n",
    "            if integer < 0:\n",
    "                return -2**31\n",
    "            else:\n",
    "                return 2**31 - 1"
   ]
  },
  {
   "cell_type": "code",
   "execution_count": 144,
   "id": "d97a297b",
   "metadata": {},
   "outputs": [
    {
     "data": {
      "text/plain": [
       "-987"
      ]
     },
     "execution_count": 144,
     "metadata": {},
     "output_type": "execute_result"
    }
   ],
   "source": [
    "s = \"-987\"\n",
    "myAtoi(s)"
   ]
  },
  {
   "cell_type": "markdown",
   "id": "57f2ed19",
   "metadata": {},
   "source": [
    "## Reverse integer\n",
    "Given a signed 32-bit integer x, return x with its digits reversed. If reversing x causes the value to go outside the signed 32-bit integer range [-231, 231 - 1], then return 0.\n",
    "\n",
    "Assume the environment does not allow you to store 64-bit integers (signed or unsigned).\n",
    "\n",
    " \n",
    "\n",
    "Example 1:\n",
    "\n",
    "Input: x = 123<br>\n",
    "Output: 321"
   ]
  },
  {
   "cell_type": "code",
   "execution_count": 120,
   "id": "6ca21218",
   "metadata": {},
   "outputs": [],
   "source": [
    "def reverseInt(x):\n",
    "\n",
    "    neg = 0\n",
    "    if x < 0:\n",
    "        x = abs(x)\n",
    "        neg = 1\n",
    "\n",
    "    nums = [i for i in str(x)]\n",
    "\n",
    "    for j in range(len(nums)//2):\n",
    "        index = len(nums) - j - 1\n",
    "        nums[j],nums[index] = nums[index],nums[j]\n",
    "\n",
    "    ans = \"\".join(nums)\n",
    "\n",
    "    if neg == 1:\n",
    "        ans = -abs(int(ans))\n",
    "\n",
    "    if -2**31 <= int(ans) <= 2**31 - 1:\n",
    "        return int(ans)\n",
    "    else:\n",
    "        return 0"
   ]
  },
  {
   "cell_type": "code",
   "execution_count": 122,
   "id": "a3423556",
   "metadata": {},
   "outputs": [
    {
     "data": {
      "text/plain": [
       "-321"
      ]
     },
     "execution_count": 122,
     "metadata": {},
     "output_type": "execute_result"
    }
   ],
   "source": [
    "x = -123\n",
    "reverseInt(x)"
   ]
  },
  {
   "cell_type": "markdown",
   "id": "c5936346",
   "metadata": {},
   "source": [
    "## Reverse String\n",
    "Write a function that reverses a string. The input string is given as an array of characters s."
   ]
  },
  {
   "cell_type": "code",
   "execution_count": 117,
   "id": "7159370d",
   "metadata": {},
   "outputs": [],
   "source": [
    "def reverse(s):\n",
    "    n = len(s)        \n",
    "    #swap half of list\n",
    "    # two pointer: front & back\n",
    "    for i in range(n//2):\n",
    "        index = n - i - 1\n",
    "        s[i], s[index] = s[index], s[i]"
   ]
  },
  {
   "cell_type": "code",
   "execution_count": 119,
   "id": "ccac33c5",
   "metadata": {},
   "outputs": [
    {
     "data": {
      "text/plain": [
       "['o', 'l', 'l', 'e', 'h']"
      ]
     },
     "execution_count": 119,
     "metadata": {},
     "output_type": "execute_result"
    }
   ],
   "source": [
    "s = ['h','e','l','l','o']\n",
    "reverse(s)\n",
    "s"
   ]
  },
  {
   "cell_type": "markdown",
   "id": "7e170a56",
   "metadata": {},
   "source": [
    "## Move Zeroes\n",
    "Given an integer array nums, move all 0's to the end of it while maintaining the relative order of the non-zero elements.\n",
    "\n",
    "Note that you must do this in-place without making a copy of the array.\n",
    "\n",
    "Example 1:\n",
    "\n",
    "Input: nums = [0,1,0,3,12]<br>\n",
    "Output: [1,3,12,0,0]"
   ]
  },
  {
   "cell_type": "code",
   "execution_count": 99,
   "id": "d7c00239",
   "metadata": {},
   "outputs": [],
   "source": [
    "def moveZeroes(nums):\n",
    "    \"\"\"in-place\"\"\"\n",
    "    k=0 #pointer to the position of last zero\n",
    "    \n",
    "    for i in range(len(nums)):\n",
    "        if nums[i] != 0: #pass all zeroes\n",
    "            #update last position of non zero\n",
    "            nums[i],nums[k]=nums[k],nums[i] #permutation\n",
    "            k +=1 #update position of zero"
   ]
  },
  {
   "cell_type": "code",
   "execution_count": 101,
   "id": "32ae4bfa",
   "metadata": {},
   "outputs": [
    {
     "data": {
      "text/plain": [
       "[1, 3, 12, 0, 0]"
      ]
     },
     "execution_count": 101,
     "metadata": {},
     "output_type": "execute_result"
    }
   ],
   "source": [
    "nums = [0,1,0,3,12]\n",
    "moveZeroes(nums)\n",
    "nums"
   ]
  },
  {
   "cell_type": "markdown",
   "id": "422c4961",
   "metadata": {},
   "source": [
    "## Intersection of Two Arrays II\n",
    "Given two integer arrays nums1 and nums2, return an array of their intersection. Each element in the result must appear as many times as it shows in both arrays and you may return the result in any order.\n",
    "\n",
    "Example 1:<br>\n",
    "\n",
    "Input: nums1 = [1,2,2,1], nums2 = [2,2]<br>\n",
    "Output: [2,2]"
   ]
  },
  {
   "cell_type": "code",
   "execution_count": 93,
   "id": "a28f6d11",
   "metadata": {},
   "outputs": [],
   "source": [
    "#Ulysses' solution - using list\n",
    "def intersection(nums1,nums2):\n",
    "    n1 = len(nums1)\n",
    "    n2 = len(nums2)\n",
    "    smallest_array = []\n",
    "    largest_array = []\n",
    "    ans = []\n",
    "\n",
    "    if n1 <= n2:\n",
    "        smallest_array = nums1\n",
    "        largest_array = nums2\n",
    "    else:\n",
    "        smallest_array = nums2\n",
    "        largest_array = nums1\n",
    "\n",
    "    for n in smallest_array:\n",
    "        if n in largest_array:\n",
    "            ans.append(n)\n",
    "            largest_array.remove(n)\n",
    "\n",
    "    return ans"
   ]
  },
  {
   "cell_type": "code",
   "execution_count": 97,
   "id": "7d63ee26",
   "metadata": {},
   "outputs": [],
   "source": [
    "#Hash map\n",
    "from collections import defaultdict\n",
    "\n",
    "def intersection(nums1,nums2):\n",
    "    n1 = len(nums1)\n",
    "    n2 = len(nums2)\n",
    "    smallest_array = []\n",
    "    largest_array = []\n",
    "    ans = defaultdict(list)\n",
    "\n",
    "    if n1 <= n2:\n",
    "        smallest_array = nums1\n",
    "        largest_array = nums2\n",
    "    else:\n",
    "        smallest_array = nums2\n",
    "        largest_array = nums1\n",
    "\n",
    "    for num in smallest_array:\n",
    "        if num in largest_array:\n",
    "            ans[1].append(num)\n",
    "            largest_array.remove(num)\n",
    "\n",
    "    return ans[1]"
   ]
  },
  {
   "cell_type": "code",
   "execution_count": 98,
   "id": "5a456092",
   "metadata": {},
   "outputs": [
    {
     "data": {
      "text/plain": [
       "[2, 2]"
      ]
     },
     "execution_count": 98,
     "metadata": {},
     "output_type": "execute_result"
    }
   ],
   "source": [
    "nums1,nums2 = [1,2,2,1], [2,2]\n",
    "intersection(nums1,nums2)"
   ]
  },
  {
   "cell_type": "markdown",
   "id": "69020fd0",
   "metadata": {},
   "source": [
    "## Contains Duplicate\n",
    "Given an integer array nums, return true if any value appears at least twice in the array, and return false if every element is distinct.\n",
    "\n",
    "Example 1:<br>\n",
    "\n",
    "Input: nums = [1,2,3,1]<br>\n",
    "Output: true<br>\n",
    "\n",
    "Example 2:<br>\n",
    "\n",
    "Input: nums = [1,2,3,4]<br>\n",
    "Output: false"
   ]
  },
  {
   "cell_type": "code",
   "execution_count": null,
   "id": "698d13c0",
   "metadata": {},
   "outputs": [],
   "source": [
    "#Naive linear search: search ith element in remaining array\n",
    "#Easily timeout with large array\n",
    "def containsDuplicate(nums):\n",
    "    \n",
    "    #SORTING ARRAY with sorted() built-in fuction - for better performance\n",
    "    #nums_sorted = sorted(nums)\n",
    "    \n",
    "    for i in range(len(nums)):\n",
    "        if nums[i] in nums[i+1:]:\n",
    "            return True\n",
    "    \n",
    "    return False"
   ]
  },
  {
   "cell_type": "code",
   "execution_count": null,
   "id": "b4f2283f",
   "metadata": {},
   "outputs": [],
   "source": [
    "#Sorting array: If they are any duplicate, they will be consecutive after sorting\n",
    "#compare with i+1 element\n",
    "\n",
    "def containsDuplicate(nums):\n",
    "    \n",
    "    nums_sorted = sorted(nums)\n",
    "    \n",
    "    for i in range(len(nums)-1):\n",
    "        \n",
    "        if nums_sorted[i] == nums_sorted[i+1]:\n",
    "            return True\n",
    "    return False"
   ]
  },
  {
   "cell_type": "code",
   "execution_count": null,
   "id": "2db4604d",
   "metadata": {},
   "outputs": [],
   "source": [
    "#Hash table or Dictionaries\n",
    "#data structure built-in for fast search\n",
    "\n",
    "def containsDuplicates(nums):\n",
    "    already_seen = {}\n",
    "    \n",
    "    for num in nums:\n",
    "        if num in already_seen:\n",
    "            return True\n",
    "        else:\n",
    "            already_seen[num] = 1 #add one key for each num with default value\n",
    "    return false"
   ]
  },
  {
   "cell_type": "markdown",
   "id": "76c9b726",
   "metadata": {},
   "source": [
    "## Single Number\n",
    "Given a non-empty array of integers nums, every element appears twice except for one. Find that single one.\n",
    "\n",
    "You must implement a solution with a linear runtime complexity and use only constant extra space."
   ]
  },
  {
   "cell_type": "code",
   "execution_count": null,
   "id": "72271c74",
   "metadata": {},
   "outputs": [],
   "source": [
    "# Ulysses' solution\n",
    "import math\n",
    "\n",
    "def singleNumber(nums):\n",
    "    n = len(nums)\n",
    "    index = 0\n",
    "    \n",
    "    if n == 1:\n",
    "        return nums[0]\n",
    "    \n",
    "    nums_sorted = sorted(nums)\n",
    "    \n",
    "    for i in range(math.ceil(n/2)): #check each pair + remainder\n",
    "        index = i*2 #set index to first instance of each pair\n",
    "        \n",
    "        if index+1 == n: #if last index is the single number\n",
    "            return nums_sorted[index]\n",
    "        \n",
    "        if nums_sorted[index] != nums_sorted[index+1]:\n",
    "            return nums_sorted[index]"
   ]
  },
  {
   "cell_type": "code",
   "execution_count": null,
   "id": "6862c1cd",
   "metadata": {},
   "outputs": [],
   "source": [
    "#List operation\n",
    "def singleNumber(nums):\n",
    "        no_duplicate_item = []\n",
    "        \n",
    "        for n in nums:\n",
    "            if n not in no_duplicate_item:\n",
    "                no_duplicate_item.append(n)\n",
    "            else:\n",
    "                no_duplicate_item.remove(n)\n",
    "                \n",
    "        return no_duplicate_item.pop()"
   ]
  },
  {
   "cell_type": "code",
   "execution_count": null,
   "id": "f425a587",
   "metadata": {},
   "outputs": [],
   "source": [
    "#Hash table\n",
    "#defaultdict allows to append values without getting KeyError when key isn't defined\n",
    "from collections import defaultdict\n",
    "\n",
    "def singleNumber(nums):\n",
    "    hash_table = defaultdict(int)\n",
    "    \n",
    "    for n in nums:\n",
    "        hash_table[n] += 1\n",
    "    \n",
    "    for key in hash_table:\n",
    "        if hash_table[key] == 1:\n",
    "            return key\n",
    "    \n",
    "    #for key, value in hash_table.items():\n",
    "    #    if value == 1:\n",
    "    #        return key"
   ]
  },
  {
   "cell_type": "markdown",
   "id": "c6a235a3",
   "metadata": {},
   "source": [
    "## Rotate Array\n",
    "Given an array, rotate the array to the right by k steps, where k is non-negative.\n",
    "\n",
    "Example 1:<br>\n",
    "Input: nums = [1,2,3,4,5,6,7], k = 3<br>\n",
    "Output: [5,6,7,1,2,3,4]"
   ]
  },
  {
   "cell_type": "code",
   "execution_count": 80,
   "id": "c7d2bb97",
   "metadata": {},
   "outputs": [],
   "source": [
    "#version 1\n",
    "def rotate(nums,k):\n",
    "    \n",
    "    #use the remainder to know account for the remaining changes after each full cycle\n",
    "    k_mod = k % len(nums)\n",
    "    \n",
    "    if len(nums) > 1 and k_mod > 0:\n",
    "        #if len(nums) = 1, the array won't change\n",
    "        #if k_mod = 0, the array will return to its original state\n",
    "        \n",
    "        nums[:] = nums[-k_mod:] + nums[:-k_mod]\n",
    "        "
   ]
  },
  {
   "cell_type": "code",
   "execution_count": 86,
   "id": "0ca21a60",
   "metadata": {},
   "outputs": [],
   "source": [
    "#version 2\n",
    "def rotate(nums,k):\n",
    "    #speed up the rotation by only rotating by the remainder of full cycles\n",
    "    k %= len(nums)\n",
    "    \n",
    "    for i in range(k):\n",
    "        #Save last element\n",
    "        previous = nums[-1]\n",
    "        \n",
    "        #permutation of two elements, starting by the last one\n",
    "        for j in range(len(nums)):\n",
    "            nums[j], previous = previous, nums[j]"
   ]
  },
  {
   "cell_type": "code",
   "execution_count": 87,
   "id": "526769cd",
   "metadata": {},
   "outputs": [
    {
     "data": {
      "text/plain": [
       "[5, 6, 7, 1, 2, 3, 4]"
      ]
     },
     "execution_count": 87,
     "metadata": {},
     "output_type": "execute_result"
    }
   ],
   "source": [
    "nums = [1,2,3,4,5,6,7] \n",
    "k = 3\n",
    "rotate(nums,3)\n",
    "nums"
   ]
  },
  {
   "cell_type": "code",
   "execution_count": null,
   "id": "839089e2",
   "metadata": {},
   "outputs": [],
   "source": []
  },
  {
   "cell_type": "code",
   "execution_count": null,
   "id": "b74b12a0",
   "metadata": {},
   "outputs": [],
   "source": []
  },
  {
   "cell_type": "markdown",
   "id": "aa9e7dd9",
   "metadata": {},
   "source": [
    "## Best time to buy and sell stock\n",
    "You are given an array prices where prices[i] is the price of a given stock on the ith day.\n",
    "\n",
    "Find the maximum profit you can achieve. You may complete as many transactions as you like (i.e., buy one and sell one share of the stock multiple times).\n",
    "\n",
    "Note: You may not engage in multiple transactions simultaneously (i.e., you must sell the stock before you buy again)."
   ]
  },
  {
   "cell_type": "code",
   "execution_count": 21,
   "id": "ce2d718e",
   "metadata": {},
   "outputs": [],
   "source": [
    "def maxProfit(prices):\n",
    "\n",
    "    n = len(prices)\n",
    "    total_profit = 0 #keep track of profit\n",
    "\n",
    "    for i in range(n-1):\n",
    "        if prices[i+1]-prices[i] > 0: #evaluate if profit is positive, if yes buy/sell\n",
    "            total_profit += prices[i+1]-prices[i] \n",
    "\n",
    "    return total_profit"
   ]
  },
  {
   "cell_type": "code",
   "execution_count": 22,
   "id": "c5e84cb6",
   "metadata": {},
   "outputs": [
    {
     "data": {
      "text/plain": [
       "7"
      ]
     },
     "execution_count": 22,
     "metadata": {},
     "output_type": "execute_result"
    }
   ],
   "source": [
    "prices = [7,1,5,3,6,4]\n",
    "maxProfit(prices)"
   ]
  },
  {
   "cell_type": "markdown",
   "id": "2f530fbb",
   "metadata": {},
   "source": [
    "## Remove duplicate\n",
    "Given an integer array nums sorted in non-decreasing order, remove the duplicates in-place such that each unique element appears only once. The relative order of the elements should be kept the same.\n",
    "\n",
    "Since it is impossible to change the length of the array in some languages, you must instead have the result be placed in the first part of the array nums. More formally, if there are k elements after removing the duplicates, then the first k elements of nums should hold the final result. It does not matter what you leave beyond the first k elements.\n",
    "\n",
    "Return k after placing the final result in the first k slots of nums.\n",
    "\n",
    "Do not allocate extra space for another array. You must do this by modifying the input array in-place with O(1) extra memory."
   ]
  },
  {
   "cell_type": "code",
   "execution_count": 16,
   "id": "7307fa43",
   "metadata": {},
   "outputs": [],
   "source": [
    "def removeDuplicates(nums):\n",
    "    n = len(nums)\n",
    "    k = 1 #count nb of unique elements\n",
    "    j = 0 #pointer to original value of unique elements\n",
    "    \n",
    "    for i in range(n):\n",
    "        if nums[i] != nums[j]: #pass duplicates till next unique element\n",
    "            j = i #assign position of new unique element\n",
    "            nums[k] = nums[j] #re-write in-place at kth element\n",
    "            k += 1\n",
    "            \n",
    "    nums = nums[:k] #resize the array\n",
    "    \n",
    "    return k, nums"
   ]
  },
  {
   "cell_type": "code",
   "execution_count": 20,
   "id": "2105581d",
   "metadata": {},
   "outputs": [
    {
     "data": {
      "text/plain": [
       "(4, [1, 2, 3, 4])"
      ]
     },
     "execution_count": 20,
     "metadata": {},
     "output_type": "execute_result"
    }
   ],
   "source": [
    "nums = [1,1,1,2,2,2,2,3,4]\n",
    "removeDuplicates(nums)"
   ]
  },
  {
   "cell_type": "markdown",
   "id": "de4b88cb",
   "metadata": {},
   "source": [
    "## Plus One:\n",
    "\n",
    "Given a non-empty array of decimal digits representing a non-negative integer, increment one to the integer.\n",
    "\n",
    "The digits are stored such that the most significant digit is at the head of the list, and each element in the array contains a single digit.\n",
    "\n",
    "You may assume the integer does not contain any leading zero, except the number 0 itself.\n",
    "\n",
    "\n",
    "Input: digits = [1,2,3]<br>\n",
    "Output: [1,2,4]<br>\n",
    "Explanation: The array represents the integer 123.<br>\n",
    "\n",
    "Constraints:\n",
    "\n",
    "1 <= digits.length <= 100<br>\n",
    "0 <= digits[i] <= 9"
   ]
  },
  {
   "cell_type": "code",
   "execution_count": 40,
   "id": "b8a42a72",
   "metadata": {},
   "outputs": [],
   "source": [
    "#digits = [1,2,3,4]\n",
    "digits = [9,9,9]"
   ]
  },
  {
   "cell_type": "code",
   "execution_count": 41,
   "id": "8018ba45",
   "metadata": {},
   "outputs": [],
   "source": [
    "def OnePlus(digits):\n",
    "    n = len(digits)\n",
    "    \n",
    "    # start checking array from right end\n",
    "    for i in range(n):\n",
    "        index = n - 1 - i #create index from right end\n",
    "        \n",
    "        # set all 9s to 0\n",
    "        if digits[index] == 9:\n",
    "            digits[index] = 0\n",
    "        # else increment the non-9s by one\n",
    "        else:\n",
    "            digits[index] += 1\n",
    "            return digits # return in else to close the loop at first non 9s\n",
    "    digits.insert(0,1) #if digits == 9, insert 1 before\n",
    "    return digits"
   ]
  },
  {
   "cell_type": "code",
   "execution_count": 42,
   "id": "b60add57",
   "metadata": {},
   "outputs": [
    {
     "data": {
      "text/plain": [
       "[1, 0, 0, 0]"
      ]
     },
     "execution_count": 42,
     "metadata": {},
     "output_type": "execute_result"
    }
   ],
   "source": [
    "OnePlus(digits)"
   ]
  },
  {
   "cell_type": "markdown",
   "id": "f2f865dc",
   "metadata": {},
   "source": [
    "## Two Sum\n",
    "\n",
    "Given an array of integers nums and an integer target, return indices of the two numbers such that they add up to target.\n",
    "\n",
    "You may assume that each input would have exactly one solution, and you may not use the same element twice.\n",
    "\n",
    "You can return the answer in any order."
   ]
  },
  {
   "cell_type": "code",
   "execution_count": 159,
   "id": "33b34f29",
   "metadata": {},
   "outputs": [
    {
     "data": {
      "text/plain": [
       "[1, 2]"
      ]
     },
     "execution_count": 159,
     "metadata": {},
     "output_type": "execute_result"
    }
   ],
   "source": [
    "#Solution 1: Brute Force\n",
    "\n",
    "def twoSum(nums, target):\n",
    "    n = len(nums)\n",
    "\n",
    "    for i in range(n):    \n",
    "        for y in range(i+1,n):\n",
    "            if nums[i] + nums[y] == target:\n",
    "                return [i,y]\n",
    "\n",
    "twoSum([3,2,4],6)"
   ]
  },
  {
   "cell_type": "code",
   "execution_count": 242,
   "id": "c84ae1cd",
   "metadata": {},
   "outputs": [
    {
     "data": {
      "text/plain": [
       "[1, 2]"
      ]
     },
     "execution_count": 242,
     "metadata": {},
     "output_type": "execute_result"
    }
   ],
   "source": [
    "#Solution 2: Hash table\n",
    "\n",
    "def twoSum(nums,target):\n",
    "    \n",
    "    h={}\n",
    "    \n",
    "    #use enumerate to keep track of index\n",
    "    for i, num in enumerate(nums):\n",
    "        \n",
    "        #calculate the value we are looking for\n",
    "        n = target-num\n",
    "        \n",
    "        #search for this value is hash table\n",
    "        if n not in h:\n",
    "            #if not, insert current value and index\n",
    "            h[num]=i\n",
    "        else:\n",
    "            return [h[n],i]\n",
    "\n",
    "twoSum([3,2,4],6)"
   ]
  },
  {
   "cell_type": "markdown",
   "id": "f784909e",
   "metadata": {},
   "source": [
    "## Ransom Note\n",
    "\n",
    "Given two stings ransomNote and magazine, return true if ransomNote can be constructed from magazine and false otherwise.\n",
    "\n",
    "Each letter in magazine can only be used once in ransomNote.\n",
    "\n",
    "Example 3:\n",
    "\n",
    "Input: ransomNote = \"aa\", magazine = \"aab\"\n",
    "Output: true"
   ]
  },
  {
   "cell_type": "markdown",
   "id": "c7a4d57d",
   "metadata": {},
   "source": [
    "<b>Important note:</b>\n",
    "1. Strings are iterable\n",
    "2. Strings are immutable"
   ]
  },
  {
   "cell_type": "code",
   "execution_count": 43,
   "id": "d9a2c1f4",
   "metadata": {},
   "outputs": [],
   "source": [
    "def ransom(ransomNote,magazine):\n",
    "    for char in ransomNote: #iterate each character in str\n",
    "        if char not in magazine: #if there is no match for first char, return false\n",
    "            return False\n",
    "        location = magazine.index(char) #retrieve index of char in magazine\n",
    "        magazine = magazine[:location] + magazine[location+1:] #remove the char, !!slicing upper bound exclusive!!\n",
    "    return True #when all char from RansomeNote have been through the loop, return True"
   ]
  },
  {
   "cell_type": "code",
   "execution_count": 44,
   "id": "85e8a478",
   "metadata": {},
   "outputs": [
    {
     "data": {
      "text/plain": [
       "True"
      ]
     },
     "execution_count": 44,
     "metadata": {},
     "output_type": "execute_result"
    }
   ],
   "source": [
    "ransom('aa','aab')"
   ]
  },
  {
   "cell_type": "markdown",
   "id": "fe8590fd",
   "metadata": {},
   "source": [
    "## Reverse Linked List\n",
    "\n",
    "Given the head of a singly linked list, reverse the list, and return the reversed list.\n",
    "\n",
    "Input: head = [1,2,3,4,5]\n",
    "Output: [5,4,3,2,1]"
   ]
  },
  {
   "cell_type": "code",
   "execution_count": 108,
   "id": "7554e091",
   "metadata": {},
   "outputs": [],
   "source": [
    "class Node:\n",
    "    def __init__(self, val=0, next=None):\n",
    "        self.val = val\n",
    "        self.next = next\n",
    "        \n",
    "class LinkedList: \n",
    "    def __init__(self):\n",
    "        self.head = None\n",
    "        \n",
    "    def insert_end(self,val):\n",
    "        NewNode = Node(val)       \n",
    "        if self.head is None:\n",
    "            self.head = NewNode\n",
    "            return \n",
    "        last = self.head\n",
    "        while last.next:\n",
    "            last = last.next\n",
    "        last.next = NewNode\n",
    "    \n",
    "    def print_list(self):\n",
    "        printVal = self.head\n",
    "        while printVal is not None:\n",
    "            print(printVal.val)\n",
    "            printVal = printVal.next\n",
    "    \n",
    "    def reverse_list(self):\n",
    "        new_head = None\n",
    "        current = self.head\n",
    "\n",
    "        while current is not None:  #traversing the linked list\n",
    "            tmp = current.next # save the next node for traversing the original list\n",
    "            current.next = new_head # assign the current pointer to its new value\n",
    "            new_head = current # update the previous variable with current value\n",
    "            current = tmp # traverse the original list\n",
    "        self.head = new_head"
   ]
  },
  {
   "cell_type": "code",
   "execution_count": 115,
   "id": "7264d43e",
   "metadata": {
    "scrolled": false
   },
   "outputs": [
    {
     "name": "stdout",
     "output_type": "stream",
     "text": [
      "1\n",
      "2\n",
      "3\n",
      "4\n",
      "5\n"
     ]
    }
   ],
   "source": [
    "llist = LinkedList()\n",
    "llist.head = Node(1)\n",
    "llist.insert_end(2)\n",
    "llist.insert_end(3)\n",
    "llist.insert_end(4)\n",
    "llist.insert_end(5)\n",
    "llist.print_list()"
   ]
  },
  {
   "cell_type": "code",
   "execution_count": 116,
   "id": "04e4b663",
   "metadata": {},
   "outputs": [
    {
     "name": "stdout",
     "output_type": "stream",
     "text": [
      "1\n",
      "2\n"
     ]
    }
   ],
   "source": [
    "print(llist.head.val)\n",
    "print(llist.head.next.val)"
   ]
  },
  {
   "cell_type": "code",
   "execution_count": 117,
   "id": "22e6b5f3",
   "metadata": {},
   "outputs": [
    {
     "name": "stdout",
     "output_type": "stream",
     "text": [
      "5\n",
      "4\n",
      "3\n",
      "2\n",
      "1\n"
     ]
    }
   ],
   "source": [
    "llist.reverse_list()\n",
    "llist.print_list()"
   ]
  },
  {
   "cell_type": "code",
   "execution_count": 118,
   "id": "a70fb9ca",
   "metadata": {},
   "outputs": [
    {
     "name": "stdout",
     "output_type": "stream",
     "text": [
      "5\n",
      "4\n"
     ]
    }
   ],
   "source": [
    "print(llist.head.val)\n",
    "print(llist.head.next.val)"
   ]
  },
  {
   "cell_type": "markdown",
   "id": "f3b86be2",
   "metadata": {},
   "source": [
    "## Moving Average from Data Stream\n",
    "\n",
    "Given a stream of integers and a window size, calculate the moving average of all integers in the sliding window.\n",
    "\n",
    "Implement the MovingAverage class:\n",
    "\n",
    "- MovingAverage(int size) Initializes the object with the size of the window size.\n",
    "- double next(int val) Returns the moving average of the last size values of the stream.\n",
    "\n",
    "Example 1:\n",
    "\n",
    "Input<br>\n",
    "[\"MovingAverage\", \"next\", \"next\", \"next\", \"next\"]<br>\n",
    "[[3], [1], [10], [3], [5]]<br>\n",
    "Output<br>\n",
    "[null, 1.0, 5.5, 4.66667, 6.0]<br>\n",
    "\n",
    "Explanation<br>\n",
    "MovingAverage movingAverage = new MovingAverage(3);<br>\n",
    "movingAverage.next(1); // return 1.0 = 1 / 1<br>\n",
    "movingAverage.next(10); // return 5.5 = (1 + 10) / 2<br>\n",
    "movingAverage.next(3); // return 4.66667 = (1 + 10 + 3) / 3<br>\n",
    "movingAverage.next(5); // return 6.0 = (10 + 3 + 5) / 3<br>"
   ]
  },
  {
   "cell_type": "code",
   "execution_count": 123,
   "id": "5df45375",
   "metadata": {},
   "outputs": [],
   "source": [
    "#solution one - using normal list O(n)\n",
    "\n",
    "class MovingAverage:\n",
    "    def __init__(self, size):\n",
    "        self.size = size\n",
    "        self.queue = [] #initiate a list to keep record of values\n",
    "        \n",
    "    def next(self, val):\n",
    "        size = self.size #initiate local variable\n",
    "        queue = self.queue #initiate local variable\n",
    "        \n",
    "        queue.append(val) #append each value to queue\n",
    "        \n",
    "        window_sum = sum(queue[-size:]) #retrieve the last 3 (size) elements and sum\n",
    "        \n",
    "        return window_sum / min(len(queue),size) #sum/count with max size"
   ]
  },
  {
   "cell_type": "code",
   "execution_count": 127,
   "id": "d87485df",
   "metadata": {},
   "outputs": [],
   "source": [
    "#solution two - using deque O(1)\n",
    "from collections import deque\n",
    "\n",
    "class MovingAverage:\n",
    "    def __init__(self, size):\n",
    "        self.size = size\n",
    "        self.queue = deque() #initiate a list to keep record of values\n",
    "        \n",
    "    def next(self, val):\n",
    "        size = self.size #initiate local variable\n",
    "        queue = self.queue #initiate local variable\n",
    "        \n",
    "        queue.append(val) #append each value to queue\n",
    "        if len(queue)>size:\n",
    "            queue.popleft()\n",
    "        \n",
    "        window_sum = sum(queue) #sum\n",
    "        \n",
    "        return window_sum / min(len(queue),size) #sum/count with max size"
   ]
  },
  {
   "cell_type": "code",
   "execution_count": 133,
   "id": "96160ce7",
   "metadata": {},
   "outputs": [],
   "source": [
    "#solution three - using deque O(1) & keep track of sum\n",
    "from collections import deque\n",
    "\n",
    "class MovingAverage:\n",
    "    def __init__(self, size):\n",
    "        self.size = size\n",
    "        self.queue = deque() #initiate a list to keep record of values\n",
    "        \n",
    "        self.window_sum = 0 #initate a class variable to keep record of sum\n",
    "        self.count = 0 #initiate a class variable to keep track of count\n",
    "        \n",
    "    def next(self, val):\n",
    "        self.count += 1 #count calls of next\n",
    "        tail = 0 #initiate tail to 0\n",
    "        \n",
    "        self.queue.append(val) #append val to deque\n",
    "        if self.count > self.size: \n",
    "            tail = self.queue.popleft() #save tail if list greater that window size\n",
    "        \n",
    "        self.window_sum = self.window_sum - tail + val #access window sum, substract tail, add last value\n",
    "        \n",
    "        return self.window_sum / min(self.count,self.size) #count is either self.count for value smaller than size OR size"
   ]
  },
  {
   "cell_type": "code",
   "execution_count": 132,
   "id": "711f9bda",
   "metadata": {},
   "outputs": [
    {
     "data": {
      "text/plain": [
       "6.0"
      ]
     },
     "execution_count": 132,
     "metadata": {},
     "output_type": "execute_result"
    }
   ],
   "source": [
    "movingAverage = MovingAverage(3)\n",
    "movingAverage.next(1)\n",
    "movingAverage.next(10)\n",
    "movingAverage.next(3)\n",
    "movingAverage.next(5)"
   ]
  },
  {
   "cell_type": "markdown",
   "id": "fa73216c",
   "metadata": {},
   "source": [
    "## Valid Parentheses\n",
    "\n",
    "Given a string s containing just the characters '(', ')', '{', '}', '[' and ']', determine if the input string is valid.\n",
    "\n",
    "An input string is valid if:\n",
    "\n",
    "- Open brackets must be closed by the same type of brackets.\n",
    "- Open brackets must be closed in the correct order.\n",
    "\n",
    "Example 1:<br>\n",
    "Input: s = \"()\"<br>\n",
    "Output: true<br>\n",
    "\n",
    "Example 2:<br>\n",
    "Input: s = \"()[]{}\"<br>\n",
    "Output: true<br>\n",
    "\n",
    "Example 3:<br>\n",
    "Input: s = \"(]\"<br>\n",
    "Output: false<br>\n",
    "\n",
    "Example 5:<br>\n",
    "Input: s = \"{[]}\"<br>\n",
    "Output: true<br>"
   ]
  },
  {
   "cell_type": "code",
   "execution_count": 148,
   "id": "0f3ba235",
   "metadata": {},
   "outputs": [],
   "source": [
    "def isValid(s):\n",
    "    \n",
    "    stack=[] #create a stack to store opening parentheses\n",
    "    \n",
    "    mapping = {')':'(','}':'{',']':'['} #create a mapping, starting with closing parentheses\n",
    "    \n",
    "    for char in s: \n",
    "        if char in mapping: \n",
    "            top_element = stack.pop() if len(stack) > 0 else 'O' #get the last element of the stack, aka last open parentheses\n",
    "                                                                 #AND pop the last element out of stack\n",
    "            \n",
    "            if mapping[char] != top_element: #if it doesn't match return false\n",
    "                return False\n",
    "        else:\n",
    "            stack.append(char) #if char is not in mapping, aka not a closing parentheses, then append to stack\n",
    "    \n",
    "    return stack == [] #if the stack is empty, "
   ]
  },
  {
   "cell_type": "code",
   "execution_count": 149,
   "id": "d95b6177",
   "metadata": {},
   "outputs": [
    {
     "data": {
      "text/plain": [
       "True"
      ]
     },
     "execution_count": 149,
     "metadata": {},
     "output_type": "execute_result"
    }
   ],
   "source": [
    "s = \"{[]}\"\n",
    "isValid(s)"
   ]
  },
  {
   "cell_type": "code",
   "execution_count": 147,
   "id": "0fdd383b",
   "metadata": {},
   "outputs": [
    {
     "name": "stdout",
     "output_type": "stream",
     "text": [
      "['{', '[', ']', '}']\n",
      "['{', '[', ']']\n"
     ]
    }
   ],
   "source": [
    "a = list(s)\n",
    "print(a)\n",
    "o = a.pop()\n",
    "print(a)"
   ]
  },
  {
   "cell_type": "code",
   "execution_count": 173,
   "id": "4304da58",
   "metadata": {},
   "outputs": [
    {
     "data": {
      "text/plain": [
       "2"
      ]
     },
     "execution_count": 173,
     "metadata": {},
     "output_type": "execute_result"
    }
   ],
   "source": [
    "a.reverse()\n",
    "a.index('{')"
   ]
  },
  {
   "cell_type": "markdown",
   "id": "487377d3",
   "metadata": {},
   "source": [
    "## Analyze User Website Visit Pattern\n",
    "\n",
    "We are given some website visits: the user with name username[i] visited the website website[i] at time timestamp[i].\n",
    "\n",
    "A 3-sequence is a list of websites of length 3 sorted in ascending order by the time of their visits.  \n",
    "(The websites in a 3-sequence are not necessarily distinct.)\n",
    "\n",
    "Find the 3-sequence visited by the largest number of users. If there is more than one solution, return the lexicographically smallest such 3-sequence."
   ]
  },
  {
   "cell_type": "code",
   "execution_count": 174,
   "id": "b7af20bc",
   "metadata": {},
   "outputs": [],
   "source": [
    "#solution 1, yours truly\n",
    "\n",
    "from itertools import combinations\n",
    "\n",
    "def mostVisitedPattern(username, timestamp, website):\n",
    "\n",
    "    #combine three list in one\n",
    "    #[['joe','1','home'],...]\n",
    "    records = []\n",
    "\n",
    "    for user, time, web in zip(username,timestamp,website):\n",
    "            records.append([user,time,web])\n",
    "\n",
    "    #sort list\n",
    "    records.sort(key=lambda x:x[1])\n",
    "\n",
    "    #create sequence per user\n",
    "    #{'joe':['home','about','career'],...}\n",
    "    sequence = {}\n",
    "\n",
    "    for ele in records:\n",
    "        if ele[0] not in sequence:\n",
    "            sequence[ele[0]] = [ele[2]]\n",
    "\n",
    "        else:\n",
    "            sequence[ele[0]].append(ele[2])\n",
    "\n",
    "    #find all combinations possible for all users & count\n",
    "\n",
    "    sequences_of_3 = {}\n",
    "\n",
    "    for user, sequ in sequence.items():\n",
    "        combs = set(combinations(sequ,3))\n",
    "\n",
    "        # count each unique key\n",
    "        #{'home','about','career':1,..}\n",
    "        for comb in combs:\n",
    "            if comb not in sequences_of_3:\n",
    "                sequences_of_3[comb]=1\n",
    "            else:\n",
    "                sequences_of_3[comb]+=1\n",
    "\n",
    "    #sort count DESC\n",
    "    sorted_seq = sorted(sequences_of_3.items(),key= lambda item:item[1], reverse=True)\n",
    "\n",
    "    #find most visited page\n",
    "    max_val = sorted_seq[0][1]\n",
    "    most_visited_web = []\n",
    "\n",
    "    for web, count in sequences_of_3.items():\n",
    "        if count==max_val:\n",
    "            most_visited_web.append(web)\n",
    "\n",
    "    return min(most_visited_web)"
   ]
  },
  {
   "cell_type": "code",
   "execution_count": 175,
   "id": "9a2c11dc",
   "metadata": {},
   "outputs": [
    {
     "data": {
      "text/plain": [
       "('home', 'about', 'career')"
      ]
     },
     "execution_count": 175,
     "metadata": {},
     "output_type": "execute_result"
    }
   ],
   "source": [
    "username = [\"joe\",\"joe\",\"joe\",\"james\",\"james\",\"james\",\"james\",\"mary\",\"mary\",\"mary\"]\n",
    "timestamp = [1,2,3,4,5,6,7,8,9,10]\n",
    "website = [\"home\",\"about\",\"career\",\"home\",\"cart\",\"maps\",\"home\",\"home\",\"about\",\"career\"]\n",
    "\n",
    "mostVisitedPattern(username,timestamp,website)"
   ]
  },
  {
   "cell_type": "code",
   "execution_count": null,
   "id": "7c323d07",
   "metadata": {},
   "outputs": [],
   "source": [
    "#solution 2\n",
    "\n",
    "from collections import defaultdict\n",
    "from itertools import combinations\n",
    "import heapq\n",
    "class Solution:\n",
    "    def mostVisitedPattern(self, username: List[str], timestamp: List[int], website: List[str]) -> List[str]:\n",
    "        \"\"\"\n",
    "        \"\"\"\n",
    "        # step 1) find each of user and website timestamp\n",
    "        # joe: [(1, home)]..\n",
    "        user_time_site = dict()\n",
    "        for user, time, site in zip(username, timestamp, website):\n",
    "            if user not in user_time_site:\n",
    "                user_time_site[user] = [(time, site)]\n",
    "            else:\n",
    "                user_time_site[user].append((time, site))\n",
    "                \n",
    "        # step 2) sorted site by time\n",
    "        # joe: [(1, home)] => joe : [home, about]\n",
    "        for user , time_site in user_time_site.items():\n",
    "            time_site.sort(key = lambda x : x[0])\n",
    "            user_time_site[user] = [site for time,site in time_site]\n",
    "        \n",
    "        user_site = user_time_site\n",
    "        site_sequence_count = defaultdict(int)\n",
    "        \n",
    "        # step 3) find all 3 sequence cobinations of site for all users\n",
    "        # (\"home\", \"about\",\"career\"): 2 \n",
    "        for user , sites in user_site.items():\n",
    "            combs = set(combinations(sites,3))\n",
    "            for comb in combs:\n",
    "                site_sequence_count[comb] += 1\n",
    "            \n",
    "        three_seq_count = []\n",
    "        # step 4) get the max site seq visit using heap\n",
    "        for site,seq_count in site_sequence_count.items():\n",
    "            heapq.heappush(three_seq_count, (-seq_count, site))\n",
    "        \n",
    "        return heapq.heappop(three_seq_count)[1]            "
   ]
  },
  {
   "cell_type": "code",
   "execution_count": null,
   "id": "5ce546a1",
   "metadata": {},
   "outputs": [],
   "source": [
    "username = [\"joe\",\"joe\",\"joe\",\"james\",\"james\",\"james\",\"james\",\"mary\",\"mary\",\"mary\"]\n",
    "timestamp = [1,2,3,4,5,6,7,8,9,10]\n",
    "website = [\"home\",\"about\",\"career\",\"home\",\"cart\",\"maps\",\"home\",\"home\",\"about\",\"career\"]\n",
    "\n",
    "mostVisitedPattern(username,timestamp,website)"
   ]
  },
  {
   "cell_type": "markdown",
   "id": "68730cdd",
   "metadata": {},
   "source": [
    "## Letter Case Permutation\n",
    "\n",
    "Given a string s, we can transform every letter individually to be lowercase or uppercase to create another string.\n",
    "\n",
    "Return a list of all possible strings we could create. You can return the output in any order.\n",
    "\n",
    "Example 1:\n",
    "\n",
    "Input: s = \"a1b2\"<br>\n",
    "Output: [\"a1b2\",\"a1B2\",\"A1b2\",\"A1B2\"]"
   ]
  },
  {
   "cell_type": "code",
   "execution_count": 238,
   "id": "e4d7cb01",
   "metadata": {},
   "outputs": [],
   "source": [
    "def letterCasePermutation(s):\n",
    "    \n",
    "    #create list of lists\n",
    "    # [[a1b],[A1b],[a1b],[a1B]]\n",
    "    ans=[[]]\n",
    "    \n",
    "    for char in s:\n",
    "        n = len(ans) #keep track of number of items in ans\n",
    "        if char.isalpha():\n",
    "            for i in range(n):\n",
    "                #create a SHALLOW copy each ele list >>> 2 options: lower or upper\n",
    "                ans.append(ans[i][:])\n",
    "                #append lower to current ele\n",
    "                ans[i].append(char.lower())\n",
    "                #append upper to last ele (shallow copy)\n",
    "                ans[n+i].append(char.upper())\n",
    "        else:\n",
    "            for i in range(n):\n",
    "                ans[i].append(char)\n",
    "                \n",
    "    #create str from inner lists\n",
    "    #map join function to each element of ans\n",
    "    \n",
    "    return print(list(map(\"\".join, ans)))"
   ]
  },
  {
   "cell_type": "code",
   "execution_count": 239,
   "id": "5eb220c8",
   "metadata": {},
   "outputs": [
    {
     "name": "stdout",
     "output_type": "stream",
     "text": [
      "['a1b2', 'A1b2', 'a1B2', 'A1B2']\n"
     ]
    }
   ],
   "source": [
    "s='a1b2'\n",
    "letterCasePermutation(s)"
   ]
  },
  {
   "cell_type": "markdown",
   "id": "36e10a31",
   "metadata": {},
   "source": [
    "## Kth Largest Element in an Array\n",
    "\n",
    "Given an integer array nums and an integer k, return the kth largest element in the array.\n",
    "\n",
    "Note that it is the kth largest element in the sorted order, not the kth distinct element.\n",
    "\n",
    "Example 2:\n",
    "\n",
    "Input: nums = [3,2,3,1,2,4,5,5,6], k = 4\n",
    "Output: 4"
   ]
  },
  {
   "cell_type": "code",
   "execution_count": 248,
   "id": "306937c4",
   "metadata": {},
   "outputs": [
    {
     "data": {
      "text/plain": [
       "4"
      ]
     },
     "execution_count": 248,
     "metadata": {},
     "output_type": "execute_result"
    }
   ],
   "source": [
    "def findKthLargest(nums,k):\n",
    "    n = len(nums)\n",
    "    \n",
    "    sorted_nums = sorted(nums, reverse=True)\n",
    "    \n",
    "    for i, val in enumerate(sorted_nums):\n",
    "        if i == k-1:\n",
    "            return val\n",
    "\n",
    "        \n",
    "nums = [3,2,3,1,2,4,5,5,6]\n",
    "findKthLargest(nums,4)"
   ]
  },
  {
   "cell_type": "code",
   "execution_count": 249,
   "id": "2bf60d9e",
   "metadata": {},
   "outputs": [
    {
     "name": "stdout",
     "output_type": "stream",
     "text": [
      "0\n",
      "1\n"
     ]
    }
   ],
   "source": [
    "for i in range(2):\n",
    "    print(i)"
   ]
  },
  {
   "cell_type": "markdown",
   "id": "71797918",
   "metadata": {},
   "source": [
    "## K Closest Points to Origin\n",
    "\n",
    "Given an array of points where points[i] = [xi, yi] represents a point on the X-Y plane and an integer k, return the k closest points to the origin (0, 0).\n",
    "\n",
    "The distance between two points on the X-Y plane is the Euclidean distance (i.e., √(x1 - x2)2 + (y1 - y2)2).\n",
    "\n",
    "You may return the answer in any order. The answer is guaranteed to be unique (except for the order that it is in).\n",
    "\n",
    "Input: points = [[1,3],[-2,2]], k = 1\n",
    "Output: [[-2,2]]\n",
    "Explanation:\n",
    "The distance between (1, 3) and the origin is sqrt(10).\n",
    "The distance between (-2, 2) and the origin is sqrt(8).\n",
    "Since sqrt(8) < sqrt(10), (-2, 2) is closer to the origin.\n",
    "We only want the closest k = 1 points from the origin, so the answer is just [[-2,2]]."
   ]
  },
  {
   "cell_type": "code",
   "execution_count": 252,
   "id": "4c310cc4",
   "metadata": {},
   "outputs": [
    {
     "data": {
      "text/plain": [
       "[[-2, 2]]"
      ]
     },
     "execution_count": 252,
     "metadata": {},
     "output_type": "execute_result"
    }
   ],
   "source": [
    "import math\n",
    "\n",
    "def kClosest(points,k):\n",
    "        n = len(points)\n",
    "        distance = 0\n",
    "        ans =[] \n",
    "        \n",
    "        #calculate the distance for each point\n",
    "        #keep track of original index\n",
    "        \n",
    "        mapping = {}\n",
    "        \n",
    "        #{0:10,1:12,...}\n",
    "        for i in range(n):\n",
    "            x,y = points[i]\n",
    "            distance = math.sqrt((x**2)+(y**2))\n",
    "            mapping[i] = distance\n",
    "            \n",
    "        #sort dict by value ASC\n",
    "        final = sorted(mapping.items(),key=lambda x:x[1])\n",
    "        \n",
    "        #return k closest from tuple\n",
    "        for i in range(k):\n",
    "            ans.append(points[final[i][0]])\n",
    "            \n",
    "        return ans\n",
    "    \n",
    "points = [[1,3],[-2,2]]\n",
    "k = 1\n",
    "kClosest(points,k)"
   ]
  },
  {
   "cell_type": "markdown",
   "id": "a894eaaf",
   "metadata": {},
   "source": [
    "## Longest Substring Without Repeating Characters\n",
    "\n",
    "Given a string s, find the length of the longest substring without repeating characters.\n",
    "\n",
    "Example 1:\n",
    "\n",
    "Input: s = \"abcabcbb\"\n",
    "Output: 3\n",
    "Explanation: The answer is \"abc\", with the length of 3.\n",
    "\n",
    "Example 3:\n",
    "\n",
    "Input: s = \"pwwkew\"\n",
    "Output: 3\n",
    "Explanation: The answer is \"wke\", with the length of 3.\n",
    "Notice that the answer must be a substring, \"pwke\" is a subsequence and not a substring."
   ]
  },
  {
   "cell_type": "code",
   "execution_count": 254,
   "id": "f0ae4999",
   "metadata": {},
   "outputs": [
    {
     "data": {
      "text/plain": [
       "2"
      ]
     },
     "execution_count": 254,
     "metadata": {},
     "output_type": "execute_result"
    }
   ],
   "source": [
    "from collections import deque\n",
    "\n",
    "def lengthOfLongestSubstring(s):\n",
    "    stack = deque()\n",
    "    n = len(s)\n",
    "    ans = 0\n",
    "    \n",
    "    #empty string return 0\n",
    "    if n == 0:\n",
    "        return 0\n",
    "    \n",
    "    #[0,a],[1,b]...\n",
    "    for i, char in enumerate(s):\n",
    "        if char not in stack:\n",
    "            stack.append(char)\n",
    "        else:\n",
    "            ans = max(ans,len(stack)) #keep largest sequence \n",
    "            while char != stack.popleft(): #remove ele till first iteration of char\n",
    "                True\n",
    "            stack.append(char) #append char to stack\n",
    "            \n",
    "    return max(ans,len(stack))\n",
    "             \n",
    "s = \"aab\"\n",
    "lengthOfLongestSubstring(s)"
   ]
  },
  {
   "cell_type": "markdown",
   "id": "e7d81743",
   "metadata": {},
   "source": [
    "## Sliding Window Median\n",
    "\n",
    "The median is the middle value in an <b>ordered</b> integer list. If the size of the list is even, there is no middle value. So the median is the mean of the two middle values.\n",
    "\n",
    "For examples, if arr = [2,3,4], the median is 3.\n",
    "For examples, if arr = [1,2,3,4], the median is (2 + 3) / 2 = 2.5.\n",
    "You are given an integer array nums and an integer k. There is a sliding window of size k which is moving from the very left of the array to the very right. You can only see the k numbers in the window. Each time the sliding window moves right by one position.\n",
    "\n",
    "Return the median array for each window in the original array. Answers within 10-5 of the actual value will be accepted.\n",
    "\n",
    "Example 1:\n",
    "\n",
    "Input: nums = [1,3,-1,-3,5,3,6,7], k = 3\n",
    "Output: [1.00000,-1.00000,-1.00000,3.00000,5.00000,6.00000]\n",
    "Explanation: \n",
    "Window position                Median\n",
    "---------------                -----\n",
    "[1  3  -1] -3  5  3  6  7        1\n",
    " 1 [3  -1  -3] 5  3  6  7       -1\n",
    " 1  3 [-1  -3  5] 3  6  7       -1\n",
    " 1  3  -1 [-3  5  3] 6  7        3\n",
    " 1  3  -1  -3 [5  3  6] 7        5\n",
    " 1  3  -1  -3  5 [3  6  7]       6"
   ]
  },
  {
   "cell_type": "code",
   "execution_count": 282,
   "id": "f211c16e",
   "metadata": {},
   "outputs": [
    {
     "data": {
      "text/plain": [
       "[1, -1, -1, 3, 5, 6]"
      ]
     },
     "execution_count": 282,
     "metadata": {},
     "output_type": "execute_result"
    }
   ],
   "source": [
    "#solution 1: using deque\n",
    "# 5% faster & 66% space efficient\n",
    "\n",
    "def medianSlidingWindow(nums, k):\n",
    "\n",
    "    window = deque()\n",
    "    m = len(nums)\n",
    "    ans = []\n",
    "\n",
    "    for i, char in enumerate(nums):\n",
    "        window.append(char)\n",
    "\n",
    "        if i+1 >= k:\n",
    "            sorted_window = sorted(window)\n",
    "            if k%2 != 0:\n",
    "                ans.append(sorted_window[int(k/2)])\n",
    "                if i != m:\n",
    "                    window.popleft()\n",
    "                else:\n",
    "                    break\n",
    "            else:\n",
    "                right = int(k/2)\n",
    "                median = (sorted_window[right-1]+sorted_window[right])/2\n",
    "                ans.append(median)\n",
    "                if i != m:\n",
    "                    window.popleft()\n",
    "                else:\n",
    "                    break\n",
    "\n",
    "    return ans  \n",
    "\n",
    "nums = [1,3,-1,-3,5,3,6,7]\n",
    "k = 3\n",
    "\n",
    "medianSlidingWindow(nums,k)"
   ]
  },
  {
   "cell_type": "code",
   "execution_count": 284,
   "id": "5813f06c",
   "metadata": {},
   "outputs": [
    {
     "data": {
      "text/plain": [
       "[1, -1, -1, 3, 5, 6]"
      ]
     },
     "execution_count": 284,
     "metadata": {},
     "output_type": "execute_result"
    }
   ],
   "source": [
    "#solution 2: using bisect\n",
    "# 34% faster & 96% space efficient\n",
    "import bisect as b\n",
    "\n",
    "def medianSlidingWindow(nums, k):\n",
    "        \n",
    "    window = []\n",
    "    ans = []\n",
    "\n",
    "    for i, char in enumerate(nums):\n",
    "        b.insort(window,char)\n",
    "        if i >= k-1:\n",
    "            index = k//2\n",
    "\n",
    "            if k%2 != 0: #odd window size\n",
    "                ans.append(window[index]) #double / round down to int\n",
    "            else:\n",
    "                median = (window[index-1]+window[index])/2\n",
    "                ans.append(median)\n",
    "\n",
    "            if i != len(nums):\n",
    "                window.remove(nums[i-k+1])\n",
    "            else:\n",
    "                break\n",
    "\n",
    "    return ans\n",
    "\n",
    "nums = [1,3,-1,-3,5,3,6,7]\n",
    "k = 3\n",
    "\n",
    "medianSlidingWindow(nums,k)    "
   ]
  },
  {
   "cell_type": "code",
   "execution_count": null,
   "id": "063efd27",
   "metadata": {},
   "outputs": [],
   "source": []
  }
 ],
 "metadata": {
  "kernelspec": {
   "display_name": "Python 3",
   "language": "python",
   "name": "python3"
  },
  "language_info": {
   "codemirror_mode": {
    "name": "ipython",
    "version": 3
   },
   "file_extension": ".py",
   "mimetype": "text/x-python",
   "name": "python",
   "nbconvert_exporter": "python",
   "pygments_lexer": "ipython3",
   "version": "3.9.4"
  }
 },
 "nbformat": 4,
 "nbformat_minor": 5
}
